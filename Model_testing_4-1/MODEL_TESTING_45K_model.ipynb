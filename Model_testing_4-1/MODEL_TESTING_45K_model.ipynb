{
 "cells": [
  {
   "cell_type": "code",
   "execution_count": 1,
   "id": "6bd2e753",
   "metadata": {},
   "outputs": [],
   "source": [
    "import numpy as np\n",
    "import pandas as pd\n",
    "import matplotlib.pyplot as plt\n",
    "import pickle"
   ]
  },
  {
   "cell_type": "code",
   "execution_count": 2,
   "id": "29238724",
   "metadata": {},
   "outputs": [],
   "source": [
    "with open('KNN_4_1_45k','rb') as file:\n",
    "    mp = pickle.load(file)"
   ]
  },
  {
   "cell_type": "code",
   "execution_count": 3,
   "id": "602f36b1",
   "metadata": {},
   "outputs": [],
   "source": [
    "test1=pd.read_excel('test_data.xlsx')"
   ]
  },
  {
   "cell_type": "code",
   "execution_count": 4,
   "id": "5929e170",
   "metadata": {},
   "outputs": [
    {
     "data": {
      "text/html": [
       "<div>\n",
       "<style scoped>\n",
       "    .dataframe tbody tr th:only-of-type {\n",
       "        vertical-align: middle;\n",
       "    }\n",
       "\n",
       "    .dataframe tbody tr th {\n",
       "        vertical-align: top;\n",
       "    }\n",
       "\n",
       "    .dataframe thead th {\n",
       "        text-align: right;\n",
       "    }\n",
       "</style>\n",
       "<table border=\"1\" class=\"dataframe\">\n",
       "  <thead>\n",
       "    <tr style=\"text-align: right;\">\n",
       "      <th></th>\n",
       "      <th>ph</th>\n",
       "      <th>c1</th>\n",
       "      <th>c2</th>\n",
       "      <th>c3</th>\n",
       "      <th>c4</th>\n",
       "      <th>ph_labels</th>\n",
       "    </tr>\n",
       "  </thead>\n",
       "  <tbody>\n",
       "    <tr>\n",
       "      <th>0</th>\n",
       "      <td>0.394394</td>\n",
       "      <td>0.976673</td>\n",
       "      <td>0.990095</td>\n",
       "      <td>0.976476</td>\n",
       "      <td>0.976903</td>\n",
       "      <td>1</td>\n",
       "    </tr>\n",
       "    <tr>\n",
       "      <th>1</th>\n",
       "      <td>0.388388</td>\n",
       "      <td>0.981311</td>\n",
       "      <td>0.994848</td>\n",
       "      <td>0.981065</td>\n",
       "      <td>0.981545</td>\n",
       "      <td>1</td>\n",
       "    </tr>\n",
       "    <tr>\n",
       "      <th>2</th>\n",
       "      <td>0.631632</td>\n",
       "      <td>0.968046</td>\n",
       "      <td>0.993398</td>\n",
       "      <td>0.966760</td>\n",
       "      <td>0.968297</td>\n",
       "      <td>2</td>\n",
       "    </tr>\n",
       "    <tr>\n",
       "      <th>3</th>\n",
       "      <td>0.750751</td>\n",
       "      <td>0.939037</td>\n",
       "      <td>0.974982</td>\n",
       "      <td>0.937394</td>\n",
       "      <td>0.939449</td>\n",
       "      <td>3</td>\n",
       "    </tr>\n",
       "    <tr>\n",
       "      <th>4</th>\n",
       "      <td>0.957958</td>\n",
       "      <td>0.998577</td>\n",
       "      <td>1.024400</td>\n",
       "      <td>0.988052</td>\n",
       "      <td>0.993759</td>\n",
       "      <td>3</td>\n",
       "    </tr>\n",
       "    <tr>\n",
       "      <th>...</th>\n",
       "      <td>...</td>\n",
       "      <td>...</td>\n",
       "      <td>...</td>\n",
       "      <td>...</td>\n",
       "      <td>...</td>\n",
       "      <td>...</td>\n",
       "    </tr>\n",
       "    <tr>\n",
       "      <th>4995</th>\n",
       "      <td>0.701702</td>\n",
       "      <td>0.994808</td>\n",
       "      <td>1.013925</td>\n",
       "      <td>0.991568</td>\n",
       "      <td>0.993932</td>\n",
       "      <td>2</td>\n",
       "    </tr>\n",
       "    <tr>\n",
       "      <th>4996</th>\n",
       "      <td>0.732733</td>\n",
       "      <td>1.005200</td>\n",
       "      <td>1.018340</td>\n",
       "      <td>0.994954</td>\n",
       "      <td>0.999536</td>\n",
       "      <td>2</td>\n",
       "    </tr>\n",
       "    <tr>\n",
       "      <th>4997</th>\n",
       "      <td>0.633634</td>\n",
       "      <td>0.942279</td>\n",
       "      <td>0.974752</td>\n",
       "      <td>0.941610</td>\n",
       "      <td>0.942829</td>\n",
       "      <td>2</td>\n",
       "    </tr>\n",
       "    <tr>\n",
       "      <th>4998</th>\n",
       "      <td>0.872873</td>\n",
       "      <td>1.000027</td>\n",
       "      <td>1.022175</td>\n",
       "      <td>0.992673</td>\n",
       "      <td>0.996919</td>\n",
       "      <td>3</td>\n",
       "    </tr>\n",
       "    <tr>\n",
       "      <th>4999</th>\n",
       "      <td>0.283283</td>\n",
       "      <td>0.986021</td>\n",
       "      <td>0.992467</td>\n",
       "      <td>0.985942</td>\n",
       "      <td>0.986129</td>\n",
       "      <td>1</td>\n",
       "    </tr>\n",
       "  </tbody>\n",
       "</table>\n",
       "<p>5000 rows × 6 columns</p>\n",
       "</div>"
      ],
      "text/plain": [
       "            ph        c1        c2        c3        c4  ph_labels\n",
       "0     0.394394  0.976673  0.990095  0.976476  0.976903          1\n",
       "1     0.388388  0.981311  0.994848  0.981065  0.981545          1\n",
       "2     0.631632  0.968046  0.993398  0.966760  0.968297          2\n",
       "3     0.750751  0.939037  0.974982  0.937394  0.939449          3\n",
       "4     0.957958  0.998577  1.024400  0.988052  0.993759          3\n",
       "...        ...       ...       ...       ...       ...        ...\n",
       "4995  0.701702  0.994808  1.013925  0.991568  0.993932          2\n",
       "4996  0.732733  1.005200  1.018340  0.994954  0.999536          2\n",
       "4997  0.633634  0.942279  0.974752  0.941610  0.942829          2\n",
       "4998  0.872873  1.000027  1.022175  0.992673  0.996919          3\n",
       "4999  0.283283  0.986021  0.992467  0.985942  0.986129          1\n",
       "\n",
       "[5000 rows x 6 columns]"
      ]
     },
     "execution_count": 4,
     "metadata": {},
     "output_type": "execute_result"
    }
   ],
   "source": [
    "test1"
   ]
  },
  {
   "cell_type": "code",
   "execution_count": 15,
   "id": "b79be200",
   "metadata": {},
   "outputs": [],
   "source": [
    "\n",
    "# drop columns 'col1' and 'col2'\n",
    "\n",
    "\n",
    "df = test1.drop(['ph_labels', 'ph'], axis=1)"
   ]
  },
  {
   "cell_type": "code",
   "execution_count": 16,
   "id": "e8016605",
   "metadata": {},
   "outputs": [
    {
     "data": {
      "text/html": [
       "<div>\n",
       "<style scoped>\n",
       "    .dataframe tbody tr th:only-of-type {\n",
       "        vertical-align: middle;\n",
       "    }\n",
       "\n",
       "    .dataframe tbody tr th {\n",
       "        vertical-align: top;\n",
       "    }\n",
       "\n",
       "    .dataframe thead th {\n",
       "        text-align: right;\n",
       "    }\n",
       "</style>\n",
       "<table border=\"1\" class=\"dataframe\">\n",
       "  <thead>\n",
       "    <tr style=\"text-align: right;\">\n",
       "      <th></th>\n",
       "      <th>c1</th>\n",
       "      <th>c2</th>\n",
       "      <th>c3</th>\n",
       "      <th>c4</th>\n",
       "    </tr>\n",
       "  </thead>\n",
       "  <tbody>\n",
       "    <tr>\n",
       "      <th>0</th>\n",
       "      <td>0.976673</td>\n",
       "      <td>0.990095</td>\n",
       "      <td>0.976476</td>\n",
       "      <td>0.976903</td>\n",
       "    </tr>\n",
       "    <tr>\n",
       "      <th>1</th>\n",
       "      <td>0.981311</td>\n",
       "      <td>0.994848</td>\n",
       "      <td>0.981065</td>\n",
       "      <td>0.981545</td>\n",
       "    </tr>\n",
       "    <tr>\n",
       "      <th>2</th>\n",
       "      <td>0.968046</td>\n",
       "      <td>0.993398</td>\n",
       "      <td>0.966760</td>\n",
       "      <td>0.968297</td>\n",
       "    </tr>\n",
       "    <tr>\n",
       "      <th>3</th>\n",
       "      <td>0.939037</td>\n",
       "      <td>0.974982</td>\n",
       "      <td>0.937394</td>\n",
       "      <td>0.939449</td>\n",
       "    </tr>\n",
       "    <tr>\n",
       "      <th>4</th>\n",
       "      <td>0.998577</td>\n",
       "      <td>1.024400</td>\n",
       "      <td>0.988052</td>\n",
       "      <td>0.993759</td>\n",
       "    </tr>\n",
       "    <tr>\n",
       "      <th>...</th>\n",
       "      <td>...</td>\n",
       "      <td>...</td>\n",
       "      <td>...</td>\n",
       "      <td>...</td>\n",
       "    </tr>\n",
       "    <tr>\n",
       "      <th>4995</th>\n",
       "      <td>0.994808</td>\n",
       "      <td>1.013925</td>\n",
       "      <td>0.991568</td>\n",
       "      <td>0.993932</td>\n",
       "    </tr>\n",
       "    <tr>\n",
       "      <th>4996</th>\n",
       "      <td>1.005200</td>\n",
       "      <td>1.018340</td>\n",
       "      <td>0.994954</td>\n",
       "      <td>0.999536</td>\n",
       "    </tr>\n",
       "    <tr>\n",
       "      <th>4997</th>\n",
       "      <td>0.942279</td>\n",
       "      <td>0.974752</td>\n",
       "      <td>0.941610</td>\n",
       "      <td>0.942829</td>\n",
       "    </tr>\n",
       "    <tr>\n",
       "      <th>4998</th>\n",
       "      <td>1.000027</td>\n",
       "      <td>1.022175</td>\n",
       "      <td>0.992673</td>\n",
       "      <td>0.996919</td>\n",
       "    </tr>\n",
       "    <tr>\n",
       "      <th>4999</th>\n",
       "      <td>0.986021</td>\n",
       "      <td>0.992467</td>\n",
       "      <td>0.985942</td>\n",
       "      <td>0.986129</td>\n",
       "    </tr>\n",
       "  </tbody>\n",
       "</table>\n",
       "<p>5000 rows × 4 columns</p>\n",
       "</div>"
      ],
      "text/plain": [
       "            c1        c2        c3        c4\n",
       "0     0.976673  0.990095  0.976476  0.976903\n",
       "1     0.981311  0.994848  0.981065  0.981545\n",
       "2     0.968046  0.993398  0.966760  0.968297\n",
       "3     0.939037  0.974982  0.937394  0.939449\n",
       "4     0.998577  1.024400  0.988052  0.993759\n",
       "...        ...       ...       ...       ...\n",
       "4995  0.994808  1.013925  0.991568  0.993932\n",
       "4996  1.005200  1.018340  0.994954  0.999536\n",
       "4997  0.942279  0.974752  0.941610  0.942829\n",
       "4998  1.000027  1.022175  0.992673  0.996919\n",
       "4999  0.986021  0.992467  0.985942  0.986129\n",
       "\n",
       "[5000 rows x 4 columns]"
      ]
     },
     "execution_count": 16,
     "metadata": {},
     "output_type": "execute_result"
    }
   ],
   "source": [
    "df"
   ]
  },
  {
   "cell_type": "code",
   "execution_count": null,
   "id": "b8e13975",
   "metadata": {},
   "outputs": [],
   "source": []
  },
  {
   "cell_type": "code",
   "execution_count": 17,
   "id": "d6bc3044",
   "metadata": {
    "scrolled": false
   },
   "outputs": [
    {
     "name": "stderr",
     "output_type": "stream",
     "text": [
      "/home/hpg-1/anaconda3/lib/python3.9/site-packages/sklearn/base.py:443: UserWarning: X has feature names, but KNeighborsClassifier was fitted without feature names\n",
      "  warnings.warn(\n"
     ]
    }
   ],
   "source": [
    "p_test1=mp.predict(df)"
   ]
  },
  {
   "cell_type": "code",
   "execution_count": 22,
   "id": "d8160e50",
   "metadata": {},
   "outputs": [
    {
     "data": {
      "text/plain": [
       "4943"
      ]
     },
     "execution_count": 22,
     "metadata": {},
     "output_type": "execute_result"
    }
   ],
   "source": [
    "np.count_nonzero(p_test1==test1.ph_labels.values)"
   ]
  },
  {
   "cell_type": "code",
   "execution_count": 28,
   "id": "742e58a5",
   "metadata": {},
   "outputs": [
    {
     "data": {
      "image/png": "[encoded data removed]",
      "text/plain": [
       "<Figure size 400x300 with 1 Axes>"
      ]
     },
     "metadata": {},
     "output_type": "display_data"
    }
   ],
   "source": [
    "plt.figure(figsize=(4,3))\n",
    "plt.hist(p_test1-test1.ph_labels.values,bins=5)\n",
    "plt.show()"
   ]
  },
  {
   "cell_type": "code",
   "execution_count": 38,
   "id": "d9c0d5b6",
   "metadata": {},
   "outputs": [
    {
     "data": {
      "text/plain": [
       "array([1., 0., 0., 0.])"
      ]
     },
     "execution_count": 38,
     "metadata": {},
     "output_type": "execute_result"
    }
   ],
   "source": [
    "p_test1[0]"
   ]
  },
  {
   "cell_type": "code",
   "execution_count": 39,
   "id": "173bf6d9",
   "metadata": {},
   "outputs": [],
   "source": [
    "# count the number of elements equal to 1 in the first column\n",
    "count = np.count_nonzero(p_test1[:, 0] == 1)"
   ]
  },
  {
   "cell_type": "code",
   "execution_count": 40,
   "id": "14d94451",
   "metadata": {},
   "outputs": [
    {
     "data": {
      "text/plain": [
       "597"
      ]
     },
     "execution_count": 40,
     "metadata": {},
     "output_type": "execute_result"
    }
   ],
   "source": [
    "count"
   ]
  },
  {
   "cell_type": "code",
   "execution_count": 41,
   "id": "f6fe9380",
   "metadata": {},
   "outputs": [
    {
     "data": {
      "text/plain": [
       "35"
      ]
     },
     "execution_count": 41,
     "metadata": {},
     "output_type": "execute_result"
    }
   ],
   "source": [
    "np.count_nonzero(p_test1[:, 1] == 1)"
   ]
  },
  {
   "cell_type": "code",
   "execution_count": 42,
   "id": "2913a013",
   "metadata": {},
   "outputs": [
    {
     "data": {
      "text/plain": [
       "27"
      ]
     },
     "execution_count": 42,
     "metadata": {},
     "output_type": "execute_result"
    }
   ],
   "source": [
    "np.count_nonzero(p_test1[:, 2] == 1)"
   ]
  },
  {
   "cell_type": "code",
   "execution_count": 43,
   "id": "79c997f0",
   "metadata": {},
   "outputs": [
    {
     "data": {
      "text/plain": [
       "322"
      ]
     },
     "execution_count": 43,
     "metadata": {},
     "output_type": "execute_result"
    }
   ],
   "source": [
    "np.count_nonzero(p_test1[:, 3] == 1)"
   ]
  },
  {
   "cell_type": "code",
   "execution_count": 45,
   "id": "22e37c5b",
   "metadata": {},
   "outputs": [
    {
     "data": {
      "text/plain": [
       "array([0.82593067, 0.83437607, 0.91669133, 0.86642565, 0.77890402,\n",
       "       0.96374883, 0.99404333, 0.9794879 , 0.77579852, 0.86682463,\n",
       "       1.02611279, 0.77527115, 1.0196534 , 0.83949155, 0.88882861,\n",
       "       0.89842474, 0.87516785, 0.95733152, 0.7846793 , 0.97414464,\n",
       "       0.84320192, 1.02328594, 0.87718331, 0.99597695, 0.93081928,\n",
       "       0.9654012 , 1.00142223, 0.91595169, 0.95392809, 0.90993714,\n",
       "       0.96291028, 1.02822317, 0.96818805, 0.86733699, 0.88545095,\n",
       "       0.93521336, 0.81737368, 0.92686941, 0.89817689, 0.99981187,\n",
       "       0.91514358, 0.79664152, 0.95854276, 0.85538893, 0.81879907,\n",
       "       0.91597282, 0.80388489, 1.03250633, 1.0302841 , 1.01384514,\n",
       "       0.87827626, 1.00954023, 0.97303297, 0.87611061, 0.88407107,\n",
       "       0.87657626, 1.01972162, 0.86994904, 0.82640309, 0.99174299,\n",
       "       0.95210621, 0.84998647, 0.85563724, 0.79598063, 0.79587457,\n",
       "       0.82697239, 0.94444793, 0.92340303, 0.86437397, 0.94761174,\n",
       "       0.82500066, 0.82692818, 0.81651464, 0.91044063, 0.98477996,\n",
       "       0.99766893, 0.97501896, 0.93858108, 0.88271457, 0.97072301,\n",
       "       0.93895327, 0.99256351, 0.91058728, 0.99038829, 0.97116282,\n",
       "       0.87735048, 0.82958566, 1.02392859, 0.95114663, 0.78099136,\n",
       "       0.92259   , 1.01011248, 0.96080727, 0.92631655, 0.8568484 ,\n",
       "       0.97726001, 0.97729199, 0.84354615, 0.86845192, 0.78785563,\n",
       "       0.94885186, 0.85443161, 0.97551132, 0.9600548 , 0.9976475 ,\n",
       "       0.9777525 , 1.01605511, 0.84164032, 0.9010648 , 0.99160822,\n",
       "       0.99482867, 0.90397621, 0.81275878, 0.80401571, 1.01181337,\n",
       "       0.80270498, 0.8384127 , 1.00928192, 0.94150096, 0.97764546,\n",
       "       0.98542635, 0.78081058, 0.78375059, 0.80311346, 0.8422073 ,\n",
       "       0.97717981, 0.8176002 , 0.82675766, 0.86754536, 1.02170279,\n",
       "       0.87178359, 0.79322139, 0.83812587, 1.02480914, 0.83641201,\n",
       "       0.85954486, 0.95282094, 0.87033162, 0.87869019, 0.8047334 ,\n",
       "       0.90646221, 0.99193341, 0.94947227, 0.77473079, 0.92350508,\n",
       "       1.01094158, 0.90096906, 0.85140496, 0.93629987, 0.99115136,\n",
       "       1.02032675, 0.98564357, 0.84845768, 0.82487349, 1.00852106,\n",
       "       0.83403825, 0.91866869, 0.98296652, 0.83458585, 1.01753455,\n",
       "       0.794282  , 0.91405021, 0.97203941, 0.88268189, 0.89708341,\n",
       "       0.8260454 , 0.93686139, 0.90177651, 0.79160433, 0.96543577,\n",
       "       0.80152826, 1.0337501 , 0.79787708, 0.84255055, 0.90463297,\n",
       "       0.9981782 , 0.92042063, 0.8762569 , 0.9190272 , 0.94548967,\n",
       "       0.79552697, 0.85896239, 0.78335654, 0.95011783, 0.79154499,\n",
       "       0.86717849, 0.87512297, 0.79937866, 0.89476813, 0.82002128,\n",
       "       0.86705629, 1.01439837, 0.89458252, 1.01556172, 1.02265419,\n",
       "       0.83559959, 0.79518647, 1.00163759, 0.98128772, 1.0244577 ,\n",
       "       0.89852937, 1.01200555, 1.02147315, 0.99712594, 0.82599959,\n",
       "       0.97755562, 0.81736025, 0.99007282, 0.93497539, 0.83494791,\n",
       "       0.84189781, 0.83736737, 0.9652842 , 0.94936028, 1.02133655,\n",
       "       0.79416689, 0.96110885, 0.9294259 , 0.81759761, 0.95288336,\n",
       "       1.01723198, 0.80005336, 0.95059991, 0.84539953, 1.00437048,\n",
       "       0.91978491, 0.77560662, 1.02254274, 0.93537777, 0.92636488,\n",
       "       0.77548267, 0.86961366, 1.01367496, 1.00623058, 0.81242744,\n",
       "       0.89583103, 0.78536679, 0.77544879, 0.88580698, 0.85448322,\n",
       "       0.88432907, 0.84544313, 1.03571499, 0.92247279, 1.02220463,\n",
       "       0.90971524, 0.81838138, 0.8100005 , 0.82518655, 0.786666  ,\n",
       "       0.83235619, 0.99139595, 0.95885598, 0.93891838, 0.9438445 ,\n",
       "       0.82582992, 0.95419783, 1.02953786, 0.84705335, 0.87510956,\n",
       "       0.91448025, 0.98448788, 0.78247361, 0.84955161, 0.82719898,\n",
       "       1.01617052, 0.97968454, 1.03148444, 0.78759221, 0.91967127,\n",
       "       0.93688299, 0.84664139, 0.89248588, 0.89832356, 1.00948078,\n",
       "       1.01611224, 1.0377424 , 0.79991766, 0.92910056, 0.82898819,\n",
       "       0.96251864, 0.98865977, 0.82275075, 0.78115458, 0.91723107,\n",
       "       1.01692106, 0.85970849, 0.99421358, 0.79418059, 0.88835153,\n",
       "       1.00308291, 0.86169504, 0.80856582, 0.83635466, 0.81208093,\n",
       "       0.81276201, 0.88728943, 0.98728293, 0.92542582, 0.90144363,\n",
       "       0.99196969, 0.81815353, 0.9844638 , 0.94000495, 0.93259125,\n",
       "       0.81909543, 0.80997914, 0.91581262, 0.78876347, 0.81172977,\n",
       "       0.95110462, 0.79973756, 1.01596622, 0.91005586, 0.77785005,\n",
       "       0.91479305, 0.80387712, 0.88195329, 0.84876191, 0.79262197,\n",
       "       0.92716426, 0.88661893, 0.82566881, 1.03075077, 1.02374477,\n",
       "       0.79322337, 0.79275791, 0.97380626, 0.84969624, 0.79801705,\n",
       "       0.83694334, 0.94613087, 0.89880364, 0.815942  , 0.83892396,\n",
       "       0.9148398 , 0.97660797, 0.87516949, 1.00974429, 0.8212544 ,\n",
       "       0.85853511, 0.84073298, 0.87247362, 0.83626359, 1.03831375,\n",
       "       0.92981519, 1.01358109, 0.83242115, 0.82341733, 0.80168817,\n",
       "       0.79299093, 0.83957641, 1.01268849, 1.0266734 , 0.94948764,\n",
       "       1.00434172, 0.90939061, 0.84989312, 0.99980799, 0.81762677,\n",
       "       0.94424492, 1.01210677, 0.87790303, 0.95242021, 0.95320018,\n",
       "       0.97915456, 1.0313987 , 0.79798602, 0.80110565, 1.00986499,\n",
       "       1.02694862, 0.81957267, 0.8562009 , 0.933396  , 0.97461442,\n",
       "       0.8625691 , 0.93085614, 0.9789337 , 0.94751199, 0.87413165,\n",
       "       0.98961718, 0.87119838, 0.84101104, 0.81425622, 0.93735721,\n",
       "       0.89223026, 0.7909433 , 0.80762828, 0.93678225, 0.7969315 ,\n",
       "       0.85501618, 0.98107548, 1.0109346 , 0.85098148, 0.88706879,\n",
       "       0.98816928, 0.95615426, 0.85209453, 0.84925133, 0.8020849 ,\n",
       "       0.98506523, 0.98885137, 0.9321389 , 0.95358953, 0.83291248,\n",
       "       0.83309668, 0.97057105, 1.02002612, 1.00033352, 0.89135121,\n",
       "       0.85216951, 0.8279521 , 0.82847042, 0.77951688, 1.02966377,\n",
       "       0.86800062, 0.97047118, 0.97788675, 0.91087086, 0.99256376,\n",
       "       0.89495075, 0.92112882, 0.92939392, 0.79731122, 0.85046823,\n",
       "       1.01945465, 0.9303101 , 0.89704519, 0.79366688, 0.97991288,\n",
       "       1.01007409, 1.01963669, 0.99299331, 0.99202356, 0.8136256 ,\n",
       "       1.01865023, 0.91087967, 0.78764121, 0.9975396 , 0.8082838 ,\n",
       "       0.82170698, 1.03505866, 0.79645856, 0.81792367, 1.01603885,\n",
       "       0.81467267, 0.84761674, 1.03524163, 0.85039896, 0.94192334,\n",
       "       0.85506198, 0.84579473, 1.02829724, 0.94189574, 0.78426748,\n",
       "       1.02302972, 0.92788015, 0.96193325, 0.94911623, 1.0293557 ,\n",
       "       0.92340977, 0.98686777, 0.95536707, 0.81371841, 0.98366685,\n",
       "       0.89384064, 0.81270992, 0.95406702, 1.03531458, 0.79710178,\n",
       "       0.90306248, 1.02896204, 0.89261373, 0.85701867, 0.93982762,\n",
       "       1.01368185, 1.02533172, 0.90294484, 0.8260885 , 0.82697164,\n",
       "       0.95396644, 0.97300709, 0.98190683, 0.84639164, 0.93112529,\n",
       "       0.77993831, 0.95386659, 0.79695014, 0.98260495, 0.93220925,\n",
       "       1.03679777, 0.99507401, 0.81590676, 0.79066174, 0.83132695,\n",
       "       1.02773371, 1.01042606, 0.81275769, 0.80634681, 0.83041697,\n",
       "       0.96895713, 0.78881303, 0.89137177, 0.85726299, 0.98352862,\n",
       "       0.96785691, 0.89422057, 0.84816684, 0.78554396, 0.90160842,\n",
       "       0.9785215 , 0.87324125, 0.92132045, 0.84019698, 0.82780618,\n",
       "       0.97634615, 0.95091081, 0.8241332 , 0.96921247, 0.89450758,\n",
       "       0.97755713, 0.86701921, 0.96928639, 0.96415603, 0.81951187,\n",
       "       0.80588959, 1.0044203 , 0.78066061, 0.87718488, 0.8644355 ,\n",
       "       0.84302399, 0.96407051, 0.94050701, 0.78481812, 0.98388992,\n",
       "       0.96696372, 0.99573048, 0.87794195, 0.94488084, 1.02435909,\n",
       "       1.02069925, 0.78982703, 0.83130466, 0.93564316, 0.8443128 ,\n",
       "       1.03505137, 0.9959737 , 0.99033415, 0.81945748, 1.03054281,\n",
       "       1.03839225, 0.97179208, 0.82639867, 0.81751267, 0.89570552,\n",
       "       0.97938647, 0.99360446, 0.87669433, 0.78125648, 0.82909316,\n",
       "       0.79110488, 0.92586095, 0.87040711, 0.95481142, 1.02167276,\n",
       "       0.90009305, 0.87233023, 0.83629195, 0.96823863, 0.98461465,\n",
       "       0.77733635, 0.82299891, 1.01837525, 0.87960125, 0.81512969,\n",
       "       0.80658291, 0.95526049, 0.79419383, 0.79827314, 0.88452603,\n",
       "       0.93972322, 0.98226817, 0.95407284, 1.03071228, 1.00154115,\n",
       "       0.94739555, 0.9977325 , 0.89788079, 0.88897447, 0.94744282,\n",
       "       1.03161984, 0.91315617, 0.8095884 , 1.00306675, 0.84121778,\n",
       "       0.88164143, 0.90255138, 0.88496643, 0.86958757, 0.78256425,\n",
       "       1.01523838, 0.79448069, 0.95980209, 0.81666729, 0.79209404,\n",
       "       0.92153033, 0.89884614, 0.83702696, 0.92068734, 0.83976611,\n",
       "       0.83834056, 1.03491468, 0.94634818, 1.00364458, 0.95665471,\n",
       "       1.00054335, 0.85960905, 0.7832445 , 0.91658612, 0.91670715,\n",
       "       0.80039579, 0.87090318, 0.8275858 , 0.7943188 , 1.0368942 ,\n",
       "       0.97080044, 0.92750415, 0.9829789 , 1.02966564, 0.81216651,\n",
       "       1.03581825, 0.83664562, 1.00412427, 1.02367787, 0.83665317,\n",
       "       1.02768646, 1.00740521, 0.82362987, 0.87018433, 0.83291475,\n",
       "       0.97607676, 0.77616547, 0.91830706, 0.9620538 , 0.8656659 ,\n",
       "       0.89305649, 0.86351233, 0.9099305 , 0.79873279, 1.03466352,\n",
       "       0.77473362, 0.95161555, 0.99073306, 1.02250921, 0.83036749,\n",
       "       0.81025028, 0.99970639, 0.90638838, 0.98539258, 0.93268772,\n",
       "       0.95990491, 0.94512711, 0.94114999, 0.91285231, 0.80634763,\n",
       "       0.77692128, 0.80487089, 0.82482539, 0.82575041, 0.99780555,\n",
       "       0.92317459, 0.99613407, 0.99592734, 1.02615555, 0.98281647,\n",
       "       0.84145004, 0.90926758, 0.89112849, 0.78634392, 0.93567211,\n",
       "       0.96449641, 0.86060165, 0.88978827, 0.81566782, 0.95843391,\n",
       "       0.91585697, 0.86536823, 0.8223081 , 0.89258148, 0.85876213,\n",
       "       1.01426103, 0.92553793, 0.98641274, 0.92651415, 1.0088581 ,\n",
       "       1.0094467 , 0.90800165, 0.91362805, 0.84735161, 0.93348849,\n",
       "       0.86771197, 0.94377699, 1.03079987, 0.88732495, 0.9099126 ,\n",
       "       0.80136397, 0.80724312, 0.78309722, 0.98071848, 1.00470494,\n",
       "       0.87030817, 1.01780222, 0.81112206, 0.89384123, 0.94005107,\n",
       "       0.95642282, 0.81906229, 0.8996294 , 0.98410897, 1.0019705 ,\n",
       "       0.90647842, 0.77589499, 0.81894929, 0.91164498, 0.98282683,\n",
       "       0.86610097, 0.86256088, 0.95053408, 0.83865394, 0.78769668,\n",
       "       0.83629744, 0.86002609, 0.96826079, 0.80410527, 1.02875681,\n",
       "       0.9942439 , 1.03200629, 0.85843127, 0.83309235, 0.78244149,\n",
       "       0.98845743, 0.95910372, 0.86650151, 0.94279995, 0.97684425,\n",
       "       0.81131701, 0.91667799, 0.86304473, 0.96382953, 0.91712501,\n",
       "       0.94918801, 0.81767634, 0.97808781, 0.77380092, 1.01133783,\n",
       "       0.94515435, 1.03943781, 0.82657626, 1.01672854, 0.78118088,\n",
       "       1.02349366, 0.81424681, 0.86937442, 0.795068  , 0.78145305,\n",
       "       0.93639797, 0.93376893, 0.82581983, 0.80812896, 1.03849483,\n",
       "       0.93034381, 0.91968956, 0.96854095, 0.79878719, 0.8676356 ,\n",
       "       0.83932756, 1.00624411, 0.97952685, 0.9330022 , 0.96650376,\n",
       "       0.79131306, 0.88097613, 0.80942377, 0.80750396, 1.027193  ,\n",
       "       0.87138391, 0.9680374 , 0.95901189, 0.82649657, 0.85574169,\n",
       "       0.93407431, 0.79446692, 1.02203032, 1.00026491, 0.95759522,\n",
       "       0.88300326, 0.84048409, 0.82400759, 0.82517323, 1.02151149,\n",
       "       0.8045429 , 0.85346141, 0.78783868, 0.99452558, 0.97535719,\n",
       "       0.97322279, 0.77412142, 0.99275467, 1.01487435, 0.80256097,\n",
       "       0.90137841, 0.98073625, 0.97850375, 0.98372396, 0.83518591,\n",
       "       1.00743171, 0.88000652, 0.93944848, 1.03705496, 0.95641576,\n",
       "       1.0149813 , 0.91514889, 0.77810114, 0.93143916, 0.85673467,\n",
       "       0.78365513, 0.99816342, 0.93687088, 1.03338824, 0.82343318,\n",
       "       0.90511711, 1.03726955, 0.93602861, 1.02149104, 0.96698191,\n",
       "       0.92038761, 0.90520256, 1.0320385 , 0.88467806, 1.02538365,\n",
       "       0.93709574, 0.97003904, 0.92152649, 0.85127433, 0.89806963,\n",
       "       0.93929983, 1.0242079 , 0.81547297, 0.79733252, 0.82269649,\n",
       "       1.03865739, 0.86906941, 0.80763442, 0.88198375, 0.97534665,\n",
       "       0.82027413, 1.0241727 , 0.80430824, 0.98112065, 0.88386243,\n",
       "       1.02563693, 0.78346108, 0.87445505, 0.82024457, 0.79965615,\n",
       "       0.85937969, 1.02533649, 0.89407622, 0.88121564, 0.90534232,\n",
       "       0.84664041, 0.78154761, 0.91943359, 0.83712977, 1.02525109,\n",
       "       0.86249229, 0.88360204, 0.94871972, 0.86006909, 1.01731411,\n",
       "       0.780546  , 1.01463613, 0.94524205, 0.9357966 , 0.94348869,\n",
       "       0.97068357, 0.80798598, 0.95447802, 0.92302645, 0.92109577,\n",
       "       0.78283185, 0.83415604, 0.7756069 , 0.90668893, 0.83131863,\n",
       "       1.01561169, 0.91067658, 0.88371173, 0.96709192, 1.00407397,\n",
       "       0.82063374, 0.89760329, 0.96167788, 1.03769637, 0.97373684,\n",
       "       0.93809606, 0.81343197, 0.94995739, 1.00008658, 1.02711206,\n",
       "       0.97914178, 0.925933  , 1.0162402 , 0.86654089, 0.85795635,\n",
       "       0.9815386 , 0.78888388, 0.82896536, 0.95426157, 0.94016776,\n",
       "       0.95968051, 0.96170932, 1.02800336, 0.77489955, 0.89228003,\n",
       "       0.94964382, 0.80315195, 1.00489057, 0.95851715, 0.82392735,\n",
       "       0.82878324, 0.9051442 , 0.92993667, 0.87065128, 0.9489661 ,\n",
       "       0.94762781, 0.84830597, 0.87787388, 0.91631877, 0.79925391,\n",
       "       0.87569917, 0.87060517, 0.94502307, 0.94947605, 0.99267007,\n",
       "       0.99934125, 0.92353727, 0.82274983, 0.96891441, 0.84327295,\n",
       "       0.83597941, 0.87499178, 1.00664491, 0.82233831, 0.96874186,\n",
       "       0.95655514, 0.78554954, 0.93054689, 1.03389627, 0.85896713,\n",
       "       0.93824213, 0.98565645, 0.90581854, 0.86294301, 1.02136456,\n",
       "       0.82849354, 1.01993958, 1.01014262, 0.77502824, 0.92271639,\n",
       "       0.85881705, 0.90103181, 0.82365621, 0.8789144 , 0.86898706,\n",
       "       0.94777387, 0.96232942, 0.88239515, 0.86862953, 0.89929844,\n",
       "       0.88957521, 0.79667097, 0.81980969, 0.81509029, 0.95926496,\n",
       "       0.77919165, 0.81192842, 0.88389218, 1.02961147, 1.03546695,\n",
       "       1.0078143 , 0.96957449, 0.88995105, 0.90750157, 0.96881388,\n",
       "       0.99516262, 0.88915031, 0.79422608, 0.84986168, 0.96595323])"
      ]
     },
     "execution_count": 45,
     "metadata": {},
     "output_type": "execute_result"
    }
   ],
   "source": [
    "test1.c1.values"
   ]
  },
  {
   "cell_type": "code",
   "execution_count": 37,
   "id": "9348958a",
   "metadata": {
    "scrolled": false
   },
   "outputs": [
    {
     "data": {
      "text/plain": [
       "array([1.        , 1.        , 0.        , 1.        , 1.        ,\n",
       "       0.        , 0.        , 0.        , 1.        , 0.        ,\n",
       "       0.        , 1.        , 0.        , 1.        , 1.        ,\n",
       "       1.        , 0.        , 1.        , 1.        , 0.        ,\n",
       "       1.        , 0.        , 1.        , 0.        , 0.        ,\n",
       "       0.        , 0.        , 0.        , 1.        , 0.        ,\n",
       "       0.        , 0.        , 0.        , 1.        , 1.        ,\n",
       "       1.        , 1.        , 1.        , 0.        , 0.        ,\n",
       "       0.        , 1.        , 1.        , 1.        , 1.        ,\n",
       "       1.        , 1.        , 0.        , 0.        , 0.        ,\n",
       "       1.        , 0.        , 1.        , 0.        , 0.        ,\n",
       "       1.        , 0.        , 1.        , 1.        , 0.        ,\n",
       "       1.        , 1.        , 1.        , 1.        , 1.        ,\n",
       "       1.        , 1.        , 0.        , 1.        , 0.        ,\n",
       "       1.        , 1.        , 1.        , 1.        , 1.        ,\n",
       "       1.        , 1.        , 1.        , 1.        , 1.        ,\n",
       "       1.        , 0.        , 1.        , 0.        , 1.        ,\n",
       "       1.        , 1.        , 0.        , 1.        , 1.        ,\n",
       "       0.        , 0.        , 0.        , 0.        , 1.        ,\n",
       "       0.        , 0.        , 1.        , 1.        , 1.        ,\n",
       "       0.        , 1.        , 0.        , 0.        , 0.        ,\n",
       "       0.        , 0.        , 1.        , 1.        , 1.        ,\n",
       "       0.        , 1.        , 1.        , 1.        , 0.        ,\n",
       "       1.        , 1.        , 0.        , 1.        , 0.        ,\n",
       "       0.        , 1.        , 1.        , 1.        , 1.        ,\n",
       "       0.        , 1.        , 1.        , 1.        , 0.        ,\n",
       "       1.        , 1.        , 1.        , 0.        , 1.        ,\n",
       "       1.        , 1.        , 1.        , 1.        , 1.        ,\n",
       "       0.        , 0.        , 0.        , 1.        , 1.        ,\n",
       "       0.        , 0.        , 1.        , 0.        , 0.        ,\n",
       "       0.        , 0.        , 1.        , 1.        , 0.        ,\n",
       "       1.        , 0.        , 0.        , 1.        , 0.        ,\n",
       "       1.        , 1.        , 0.        , 0.        , 1.        ,\n",
       "       1.        , 1.        , 1.        , 1.        , 0.        ,\n",
       "       1.        , 0.        , 1.        , 1.        , 1.        ,\n",
       "       0.        , 1.        , 1.        , 1.        , 0.        ,\n",
       "       1.        , 1.        , 1.        , 0.        , 1.        ,\n",
       "       1.        , 1.        , 1.        , 1.        , 1.        ,\n",
       "       1.        , 0.        , 0.35611806, 0.        , 0.        ,\n",
       "       1.        , 1.        , 0.        , 0.        , 0.        ,\n",
       "       1.        , 0.        , 0.        , 0.        , 1.        ,\n",
       "       0.        , 1.        , 0.        , 0.        , 1.        ,\n",
       "       1.        , 1.        , 0.        , 0.        , 0.        ,\n",
       "       1.        , 0.        , 1.        , 1.        , 1.        ,\n",
       "       0.        , 1.        , 0.        , 1.        , 0.        ,\n",
       "       0.        , 1.        , 0.        , 1.        , 0.        ,\n",
       "       1.        , 1.        , 0.        , 0.        , 1.        ,\n",
       "       1.        , 1.        , 1.        , 1.        , 1.        ,\n",
       "       1.        , 1.        , 0.        , 0.        , 0.        ,\n",
       "       0.        , 1.        , 1.        , 1.        , 1.        ,\n",
       "       1.        , 1.        , 1.        , 1.        , 1.        ,\n",
       "       1.        , 1.        , 0.        , 1.        , 1.        ,\n",
       "       1.        , 0.        , 1.        , 1.        , 1.        ,\n",
       "       0.        , 1.        , 0.        , 1.        , 0.        ,\n",
       "       1.        , 1.        , 1.        , 1.        , 0.        ,\n",
       "       0.        , 0.        , 1.        , 0.        , 1.        ,\n",
       "       1.        , 0.        , 1.        , 1.        , 0.        ,\n",
       "       0.        , 1.        , 0.        , 1.        , 1.        ,\n",
       "       0.        , 1.        , 1.        , 1.        , 1.        ,\n",
       "       1.        , 1.        , 0.        , 1.        , 1.        ,\n",
       "       0.        , 1.        , 0.        , 1.        , 0.        ,\n",
       "       1.        , 1.        , 0.        , 1.        , 1.        ,\n",
       "       0.        , 1.        , 0.        , 0.        , 1.        ,\n",
       "       1.        , 1.        , 1.        , 1.        , 1.        ,\n",
       "       1.        , 1.        , 1.        , 0.        , 0.        ,\n",
       "       1.        , 1.        , 1.        , 1.        , 1.        ,\n",
       "       1.        , 1.        , 1.        , 1.        , 1.        ,\n",
       "       0.        , 1.        , 1.        , 0.        , 1.        ,\n",
       "       1.        , 1.        , 1.        , 1.        , 0.        ,\n",
       "       1.        , 0.        , 1.        , 1.        , 1.        ,\n",
       "       1.        , 1.        , 0.        , 0.        , 0.        ,\n",
       "       0.        , 1.        , 1.        , 0.        , 1.        ,\n",
       "       1.        , 0.        , 1.        , 1.        , 1.        ,\n",
       "       0.        , 0.        , 1.        , 1.        , 0.        ,\n",
       "       0.        , 1.        , 1.        , 0.        , 0.        ,\n",
       "       1.        , 1.        , 0.        , 0.        , 1.        ,\n",
       "       0.        , 1.        , 1.        , 1.        , 0.        ,\n",
       "       1.        , 1.        , 1.        , 0.        , 1.        ,\n",
       "       1.        , 0.        , 0.        , 1.        , 0.        ,\n",
       "       1.        , 1.        , 1.        , 1.        , 1.        ,\n",
       "       0.        , 1.        , 0.        , 0.        , 1.        ,\n",
       "       1.        , 1.        , 0.        , 0.        , 1.        ,\n",
       "       1.        , 1.        , 1.        , 1.        , 0.        ,\n",
       "       1.        , 0.        , 1.        , 0.        , 0.        ,\n",
       "       0.        , 1.        , 1.        , 1.        , 1.        ,\n",
       "       0.        , 0.        , 0.        , 1.        , 1.        ,\n",
       "       0.        , 0.        , 0.        , 0.        , 1.        ,\n",
       "       0.        , 0.        , 1.        , 0.        , 1.        ,\n",
       "       1.        , 0.        , 1.        , 1.        , 0.        ,\n",
       "       1.        , 1.        , 0.        , 1.        , 0.        ,\n",
       "       1.        , 1.        , 0.        , 1.        , 1.        ,\n",
       "       0.        , 1.        , 1.        , 1.        , 0.        ,\n",
       "       0.        , 1.        , 0.        , 1.        , 1.        ,\n",
       "       1.        , 1.        , 0.        , 0.        , 1.        ,\n",
       "       1.        , 0.        , 1.        , 1.        , 0.        ,\n",
       "       0.        , 0.        , 1.        , 1.        , 1.        ,\n",
       "       0.        , 1.        , 0.        , 1.        , 0.        ,\n",
       "       1.        , 1.        , 1.        , 1.        , 0.        ,\n",
       "       0.        , 0.        , 1.        , 1.        , 1.        ,\n",
       "       0.        , 0.        , 1.        , 1.        , 1.        ,\n",
       "       0.        , 1.        , 1.        , 1.        , 1.        ,\n",
       "       0.        , 0.        , 1.        , 1.        , 0.        ,\n",
       "       0.        , 0.        , 1.        , 1.        , 1.        ,\n",
       "       1.        , 0.        , 1.        , 1.        , 0.3562324 ,\n",
       "       1.        , 1.        , 0.        , 1.        , 1.        ,\n",
       "       1.        , 0.        , 1.        , 1.        , 1.        ,\n",
       "       1.        , 1.        , 0.        , 1.        , 0.        ,\n",
       "       0.        , 0.        , 1.        , 1.        , 0.        ,\n",
       "       0.        , 1.        , 1.        , 0.        , 1.        ,\n",
       "       0.        , 0.        , 0.        , 1.        , 0.        ,\n",
       "       0.        , 0.        , 1.        , 1.        , 0.45101415,\n",
       "       0.        , 0.        , 1.        , 1.        , 1.        ,\n",
       "       1.        , 0.        , 0.        , 0.        , 0.        ,\n",
       "       1.        , 1.        , 1.        , 0.        , 0.        ,\n",
       "       1.        , 1.        , 0.        , 0.        , 1.        ,\n",
       "       1.        , 0.        , 1.        , 1.        , 0.        ,\n",
       "       0.        , 1.        , 1.        , 0.        , 0.        ,\n",
       "       0.        , 0.        , 0.        , 0.        , 0.        ,\n",
       "       0.        , 1.        , 1.        , 0.        , 1.        ,\n",
       "       1.        , 0.        , 1.        , 1.        , 1.        ,\n",
       "       0.        , 1.        , 0.        , 1.        , 1.        ,\n",
       "       0.        , 1.        , 1.        , 1.        , 1.        ,\n",
       "       1.        , 0.        , 0.        , 0.        , 0.        ,\n",
       "       0.        , 1.        , 1.        , 0.        , 1.        ,\n",
       "       1.        , 1.        , 1.        , 1.        , 0.        ,\n",
       "       0.        , 0.        , 0.        , 0.        , 1.        ,\n",
       "       0.        , 1.        , 0.        , 0.        , 1.        ,\n",
       "       0.        , 0.        , 1.        , 1.        , 1.        ,\n",
       "       0.        , 1.        , 0.        , 0.        , 1.        ,\n",
       "       1.        , 1.        , 0.        , 1.        , 0.        ,\n",
       "       1.        , 0.        , 0.        , 0.        , 1.        ,\n",
       "       1.        , 0.        , 1.        , 1.        , 0.        ,\n",
       "       1.        , 0.        , 0.        , 1.        , 1.        ,\n",
       "       1.        , 1.        , 1.        , 1.        , 0.        ,\n",
       "       1.        , 0.        , 0.        , 0.        , 0.        ,\n",
       "       1.        , 1.        , 0.        , 1.        , 1.        ,\n",
       "       0.        , 0.        , 0.        , 1.        , 0.        ,\n",
       "       1.        , 1.        , 1.        , 1.        , 1.        ,\n",
       "       0.        , 1.        , 0.        , 0.        , 0.        ,\n",
       "       0.        , 0.        , 1.        , 1.        , 1.        ,\n",
       "       1.        , 0.        , 0.        , 1.        , 0.        ,\n",
       "       1.        , 1.        , 1.        , 0.        , 0.        ,\n",
       "       1.        , 0.        , 1.        , 1.        , 0.        ,\n",
       "       0.        , 1.        , 1.        , 0.        , 0.        ,\n",
       "       1.        , 1.        , 1.        , 0.        , 0.        ,\n",
       "       1.        , 1.        , 1.        , 1.        , 1.        ,\n",
       "       1.        , 1.        , 0.        , 1.        , 0.        ,\n",
       "       0.        , 0.        , 1.        , 1.        , 1.        ,\n",
       "       0.        , 1.        , 1.        , 1.        , 1.        ,\n",
       "       1.        , 1.        , 1.        , 0.        , 1.        ,\n",
       "       0.        , 1.        , 1.        , 1.        , 0.        ,\n",
       "       1.        , 0.        , 1.        , 0.        , 1.        ,\n",
       "       0.        , 1.        , 1.        , 1.        , 1.        ,\n",
       "       0.        , 0.        , 1.        , 1.        , 0.        ,\n",
       "       1.        , 1.        , 1.        , 1.        , 1.        ,\n",
       "       1.        , 0.        , 1.        , 0.        , 1.        ,\n",
       "       1.        , 0.        , 1.        , 1.        , 0.        ,\n",
       "       1.        , 1.        , 1.        , 1.        , 1.        ,\n",
       "       1.        , 1.        , 0.        , 0.        , 0.        ,\n",
       "       1.        , 1.        , 1.        , 1.        , 0.        ,\n",
       "       1.        , 1.        , 1.        , 0.        , 0.        ,\n",
       "       1.        , 1.        , 0.        , 0.        , 1.        ,\n",
       "       1.        , 0.        , 0.        , 0.        , 1.        ,\n",
       "       0.        , 1.        , 0.        , 0.        , 1.        ,\n",
       "       0.        , 0.        , 1.        , 1.        , 1.        ,\n",
       "       1.        , 0.        , 0.        , 0.        , 1.        ,\n",
       "       0.        , 0.        , 0.        , 0.        , 0.        ,\n",
       "       0.        , 1.        , 0.        , 1.        , 0.        ,\n",
       "       0.        , 0.        , 1.        , 1.        , 1.        ,\n",
       "       1.        , 0.        , 1.        , 1.        , 1.        ,\n",
       "       0.        , 0.        , 1.        , 1.        , 1.        ,\n",
       "       1.        , 0.        , 1.        , 0.        , 1.        ,\n",
       "       0.        , 1.        , 1.        , 1.        , 1.        ,\n",
       "       1.        , 0.        , 1.        , 1.        , 1.        ,\n",
       "       1.        , 1.        , 1.        , 1.        , 0.        ,\n",
       "       1.        , 0.        , 0.        , 1.        , 0.        ,\n",
       "       1.        , 0.        , 0.        , 0.        , 0.        ,\n",
       "       0.        , 1.        , 0.        , 0.        , 1.        ,\n",
       "       1.        , 1.        , 1.        , 0.        , 1.        ,\n",
       "       0.        , 0.        , 1.        , 0.        , 0.        ,\n",
       "       1.        , 1.        , 1.        , 0.        , 1.        ,\n",
       "       1.        , 1.        , 0.        , 0.        , 0.        ,\n",
       "       0.        , 1.        , 0.        , 1.        , 1.        ,\n",
       "       0.        , 1.        , 1.        , 0.        , 1.        ,\n",
       "       1.        , 1.        , 0.        , 1.        , 0.        ,\n",
       "       0.        , 1.        , 0.        , 1.        , 1.        ,\n",
       "       1.        , 1.        , 1.        , 1.        , 1.        ,\n",
       "       1.        , 1.        , 1.        , 1.        , 1.        ,\n",
       "       1.        , 1.        , 0.        , 0.        , 0.        ,\n",
       "       0.        , 0.91086989, 1.        , 0.        , 1.        ,\n",
       "       1.        , 1.        , 0.        , 1.        , 1.        ,\n",
       "       0.        , 1.        , 1.        , 0.        , 1.        ,\n",
       "       1.        , 0.        , 0.        , 1.        , 0.        ,\n",
       "       1.        , 0.        , 0.        , 1.        , 1.        ,\n",
       "       1.        , 1.        , 1.        , 1.        , 1.        ,\n",
       "       1.        , 0.        , 1.        , 1.        , 1.        ,\n",
       "       1.        , 1.        , 1.        , 1.        , 0.        ,\n",
       "       1.        , 1.        , 1.        , 0.        , 0.        ,\n",
       "       1.        , 1.        , 1.        , 1.        , 1.        ,\n",
       "       0.        , 1.        , 1.        , 1.        , 0.        ])"
      ]
     },
     "execution_count": 37,
     "metadata": {},
     "output_type": "execute_result"
    }
   ],
   "source": [
    "p_test1[:,0]"
   ]
  },
  {
   "cell_type": "code",
   "execution_count": 5,
   "id": "6e07c47c",
   "metadata": {},
   "outputs": [],
   "source": [
    "c1t1=p_test1[:,0]\n",
    "c2t1=p_test1[:,1]\n",
    "c3t1=p_test1[:,2]\n",
    "c4t1=p_test1[:,3]"
   ]
  },
  {
   "cell_type": "code",
   "execution_count": 6,
   "id": "97a16be9",
   "metadata": {},
   "outputs": [],
   "source": [
    "y1t1=len(c1t1[c1t1==1])\n",
    "y2t1=len(c2t1[c2t1==1])\n",
    "y3t1=len(c3t1[c3t1==1])\n",
    "y4t1=len(c4t1[c4t1==1])\n",
    "\n",
    "y5t1=len(c1t1[(c1t1!=1) & (c1t1!=0)])\n",
    "y6t1=len(c2t1[(c2t1!=1) & (c2t1!=0)])\n",
    "y7t1=len(c3t1[(c3t1!=1) & (c3t1!=0)])\n",
    "y8t1=len(c4t1[(c4t1!=1) & (c4t1!=0)])"
   ]
  },
  {
   "cell_type": "code",
   "execution_count": 7,
   "id": "a47960a7",
   "metadata": {},
   "outputs": [],
   "source": [
    "x1t1='$\\mathcal{P}(p_h)$=1\\nclass 0'\n",
    "x2t1='$\\mathcal{P}(p_h)$=1\\nclass 1'\n",
    "x3t1='$\\mathcal{P}(p_h)$=1\\nclass 2'\n",
    "x4t1='$\\mathcal{P}(p_h)$=1\\nclass 3'\n",
    "\n",
    "x5t1='$\\mathcal{P}(p_h)$<1\\nclass 0'\n",
    "x6t1='$\\mathcal{P}(p_h)$<1\\nclass 1'\n",
    "x7t1='$\\mathcal{P}(p_h)$<1\\nclass 2'\n",
    "x8t1='$\\mathcal{P}(p_h)$<1\\nclass 3'\n"
   ]
  },
  {
   "cell_type": "code",
   "execution_count": 8,
   "id": "c89f43ed",
   "metadata": {},
   "outputs": [],
   "source": [
    "x_lab_t1=x1t1,x2t1,x3t1,x4t1,x5t1,x6t1,x7t1,x8t1\n",
    "y_lab_t1=y1t1,y2t1,y3t1,y4t1,y5t1,y6t1,y7t1,y8t1"
   ]
  },
  {
   "cell_type": "code",
   "execution_count": 33,
   "id": "7a098ef6",
   "metadata": {},
   "outputs": [
    {
     "data": {
      "text/plain": [
       "Text(0, 0.5, 'Occurances')"
      ]
     },
     "execution_count": 33,
     "metadata": {},
     "output_type": "execute_result"
    },
    {
     "data": {
      "image/png": "[encoded data removed]",
      "text/plain": [
       "<Figure size 600x300 with 1 Axes>"
      ]
     },
     "metadata": {},
     "output_type": "display_data"
    }
   ],
   "source": [
    "plt.figure(figsize=(6,3))\n",
    "plt.scatter(x_lab_t1,y_lab_t1)\n",
    "plt.vlines(x = x_lab_t1[0],ymin=-0.001, ymax = y_lab_t1[0], color = 'r',\n",
    "            label = 'axvline - % of full height')\n",
    "plt.text(x_lab_t1[0],y_lab_t1[0], f\"{y_lab_t1[0]}\", ha='left', va='bottom',fontsize=12)\n",
    "\n",
    "plt.vlines(x = x_lab_t1[1],ymin=-0.001, ymax = y_lab_t1[1], color = 'r',\n",
    "            label = 'axvline - % of full height')\n",
    "plt.text(x_lab_t1[1],y_lab_t1[1], f\"{y_lab_t1[1]}\", ha='left', va='bottom',fontsize=12)\n",
    "\n",
    "plt.vlines(x = x_lab_t1[2],ymin=-0.001, ymax = y_lab_t1[2], color = 'r',\n",
    "            label = 'axvline - % of full height')\n",
    "plt.text(x_lab_t1[2],y_lab_t1[2], f\"{y_lab_t1[2]}\", ha='left', va='bottom',fontsize=12)\n",
    "\n",
    "plt.vlines(x = x_lab_t1[3],ymin=-0.001, ymax = y_lab_t1[3], color = 'r',\n",
    "            label = 'axvline - % of full height')\n",
    "plt.text(x_lab_t1[3],y_lab_t1[3], f\"{y_lab_t1[3]}\", ha='left', va='bottom',fontsize=12)\n",
    "\n",
    "plt.vlines(x = x_lab_t1[4],ymin=-0.001, ymax = y_lab_t1[4], color = 'r',\n",
    "            label = 'axvline - % of full height')\n",
    "plt.text(x_lab_t1[4],y_lab_t1[4], f\"{y_lab_t1[4]}\", ha='left', va='bottom',fontsize=12)\n",
    "\n",
    "plt.vlines(x = x_lab_t1[5],ymin=-0.001, ymax = y_lab_t1[5], color = 'r',\n",
    "            label = 'axvline - % of full height')\n",
    "plt.text(x_lab_t1[5],y_lab_t1[5], f\"{y_lab_t1[5]}\", ha='left', va='bottom',fontsize=12)\n",
    "\n",
    "plt.vlines(x = x_lab_t1[6],ymin=-0.001, ymax = y_lab_t1[6], color = 'r',\n",
    "            label = 'axvline - % of full height')\n",
    "plt.text(x_lab_t1[6],y_lab_t1[6], f\"{y_lab_t1[6]}\", ha='left', va='bottom',fontsize=12)\n",
    "\n",
    "plt.vlines(x = x_lab_t1[7],ymin=-0.001, ymax = y_lab_t1[7], color = 'r',\n",
    "            label = 'axvline - % of full height')\n",
    "plt.text(x_lab_t1[7],y_lab_t1[7], f\"{y_lab_t1[7]}\", ha='left', va='bottom',fontsize=12)\n",
    "plt.annotate('$C^{{(1)}}=C^{{(2)}},C^{{(3)}}=C^{{(4)}}$', xy=(0.3, 0.7), xycoords='axes fraction', fontsize=15, bbox=dict(boxstyle=\"round,pad=0.3\", fc=\"white\", ec=\"black\"))\n",
    "\n",
    "plt.xticks(fontsize=10)\n",
    "plt.yticks(fontsize=10)\n",
    "plt.ylim(top=700,bottom=0.01)\n",
    "plt.ylabel('Occurances',fontsize=10)"
   ]
  },
  {
   "cell_type": "code",
   "execution_count": 24,
   "id": "6a75f5b9",
   "metadata": {},
   "outputs": [
    {
     "data": {
      "text/plain": [
       "array([0.82593067, 0.82593067, 0.97084761, 0.97084761])"
      ]
     },
     "execution_count": 24,
     "metadata": {},
     "output_type": "execute_result"
    }
   ],
   "source": [
    "test1.values[0]"
   ]
  },
  {
   "cell_type": "code",
   "execution_count": 31,
   "id": "2b600f1b",
   "metadata": {},
   "outputs": [
    {
     "data": {
      "text/plain": [
       "array([[0., 0., 0., 1.]])"
      ]
     },
     "execution_count": 31,
     "metadata": {},
     "output_type": "execute_result"
    }
   ],
   "source": [
    "mp.predict_proba([test1.values[895]])"
   ]
  },
  {
   "cell_type": "code",
   "execution_count": null,
   "id": "2dd253c2",
   "metadata": {},
   "outputs": [],
   "source": []
  }
 ],
 "metadata": {
  "kernelspec": {
   "display_name": "Python 3 (ipykernel)",
   "language": "python",
   "name": "python3"
  },
  "language_info": {
   "codemirror_mode": {
    "name": "ipython",
    "version": 3
   },
   "file_extension": ".py",
   "mimetype": "text/x-python",
   "name": "python",
   "nbconvert_exporter": "python",
   "pygments_lexer": "ipython3",
   "version": "3.9.7"
  }
 },
 "nbformat": 4,
 "nbformat_minor": 5
}

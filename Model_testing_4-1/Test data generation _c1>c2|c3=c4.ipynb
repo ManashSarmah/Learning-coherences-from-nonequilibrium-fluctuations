{
 "cells": [
  {
   "cell_type": "code",
   "execution_count": 3,
   "id": "600fb464",
   "metadata": {},
   "outputs": [],
   "source": [
    "import numpy as np\n",
    "import matplotlib.pyplot as plt\n",
    "import pandas as pd"
   ]
  },
  {
   "cell_type": "code",
   "execution_count": 4,
   "id": "f96d96cf",
   "metadata": {},
   "outputs": [],
   "source": [
    "import random\n",
    "\n",
    "# set the range for the random float numbers\n",
    "min_value_1 = 0.8073\n",
    "max_value_1 = 1.0678\n",
    "\n",
    "min_value_2 = 0.7737\n",
    "\n",
    "max_value_2 = 1.0397\n",
    "\n",
    "# generate a random array of length n with float numbers within the specified range\n",
    "n = 1000\n",
    "array1 = [random.uniform(min_value_1, max_value_1) for i in range(n)]\n",
    "array2 = [random.uniform(min_value_2, max_value_2) for i in range(n)]\n",
    "\n",
    "# make sure array2 is greater than array1\n",
    "for i in range(n):\n",
    "    if array2[i] <= array1[i]:\n",
    "        array2[i] = array1[i] + random.uniform(0.1, 0.5) # add a random float number between 0.1 and 0.5\n",
    "\n",
    "# print(\"Array 1:\", array1)\n",
    "# print(\"Array 2:\", array2)\n"
   ]
  },
  {
   "cell_type": "code",
   "execution_count": 5,
   "id": "e6be6de2",
   "metadata": {},
   "outputs": [],
   "source": [
    "df = pd.DataFrame()"
   ]
  },
  {
   "cell_type": "code",
   "execution_count": 7,
   "id": "36b9ece6",
   "metadata": {},
   "outputs": [
    {
     "data": {
      "text/plain": [
       "True"
      ]
     },
     "execution_count": 7,
     "metadata": {},
     "output_type": "execute_result"
    }
   ],
   "source": [
    "array2>array1"
   ]
  },
  {
   "cell_type": "code",
   "execution_count": 8,
   "id": "a94f6d40",
   "metadata": {},
   "outputs": [],
   "source": [
    "df['c1'] = array1\n",
    "df['c2'] = array2"
   ]
  },
  {
   "cell_type": "code",
   "execution_count": 9,
   "id": "15db13ff",
   "metadata": {},
   "outputs": [],
   "source": [
    "df.to_excel('c1<c2.xlsx',index=False)"
   ]
  },
  {
   "cell_type": "code",
   "execution_count": 10,
   "id": "e989e5ad",
   "metadata": {},
   "outputs": [
    {
     "data": {
      "text/html": [
       "<div>\n",
       "<style scoped>\n",
       "    .dataframe tbody tr th:only-of-type {\n",
       "        vertical-align: middle;\n",
       "    }\n",
       "\n",
       "    .dataframe tbody tr th {\n",
       "        vertical-align: top;\n",
       "    }\n",
       "\n",
       "    .dataframe thead th {\n",
       "        text-align: right;\n",
       "    }\n",
       "</style>\n",
       "<table border=\"1\" class=\"dataframe\">\n",
       "  <thead>\n",
       "    <tr style=\"text-align: right;\">\n",
       "      <th></th>\n",
       "      <th>c1</th>\n",
       "      <th>c2</th>\n",
       "    </tr>\n",
       "  </thead>\n",
       "  <tbody>\n",
       "    <tr>\n",
       "      <th>0</th>\n",
       "      <td>0.979598</td>\n",
       "      <td>0.981408</td>\n",
       "    </tr>\n",
       "    <tr>\n",
       "      <th>1</th>\n",
       "      <td>0.973741</td>\n",
       "      <td>1.287122</td>\n",
       "    </tr>\n",
       "    <tr>\n",
       "      <th>2</th>\n",
       "      <td>0.825974</td>\n",
       "      <td>0.948940</td>\n",
       "    </tr>\n",
       "    <tr>\n",
       "      <th>3</th>\n",
       "      <td>0.881476</td>\n",
       "      <td>1.017983</td>\n",
       "    </tr>\n",
       "    <tr>\n",
       "      <th>4</th>\n",
       "      <td>0.825818</td>\n",
       "      <td>0.862543</td>\n",
       "    </tr>\n",
       "    <tr>\n",
       "      <th>...</th>\n",
       "      <td>...</td>\n",
       "      <td>...</td>\n",
       "    </tr>\n",
       "    <tr>\n",
       "      <th>995</th>\n",
       "      <td>0.847664</td>\n",
       "      <td>0.968267</td>\n",
       "    </tr>\n",
       "    <tr>\n",
       "      <th>996</th>\n",
       "      <td>1.054169</td>\n",
       "      <td>1.217702</td>\n",
       "    </tr>\n",
       "    <tr>\n",
       "      <th>997</th>\n",
       "      <td>0.878497</td>\n",
       "      <td>1.020137</td>\n",
       "    </tr>\n",
       "    <tr>\n",
       "      <th>998</th>\n",
       "      <td>0.983788</td>\n",
       "      <td>1.272757</td>\n",
       "    </tr>\n",
       "    <tr>\n",
       "      <th>999</th>\n",
       "      <td>1.033311</td>\n",
       "      <td>1.456245</td>\n",
       "    </tr>\n",
       "  </tbody>\n",
       "</table>\n",
       "<p>1000 rows × 2 columns</p>\n",
       "</div>"
      ],
      "text/plain": [
       "           c1        c2\n",
       "0    0.979598  0.981408\n",
       "1    0.973741  1.287122\n",
       "2    0.825974  0.948940\n",
       "3    0.881476  1.017983\n",
       "4    0.825818  0.862543\n",
       "..        ...       ...\n",
       "995  0.847664  0.968267\n",
       "996  1.054169  1.217702\n",
       "997  0.878497  1.020137\n",
       "998  0.983788  1.272757\n",
       "999  1.033311  1.456245\n",
       "\n",
       "[1000 rows x 2 columns]"
      ]
     },
     "execution_count": 10,
     "metadata": {},
     "output_type": "execute_result"
    }
   ],
   "source": [
    "df"
   ]
  },
  {
   "cell_type": "code",
   "execution_count": null,
   "id": "86c6d0fd",
   "metadata": {},
   "outputs": [],
   "source": []
  }
 ],
 "metadata": {
  "kernelspec": {
   "display_name": "Python 3 (ipykernel)",
   "language": "python",
   "name": "python3"
  },
  "language_info": {
   "codemirror_mode": {
    "name": "ipython",
    "version": 3
   },
   "file_extension": ".py",
   "mimetype": "text/x-python",
   "name": "python",
   "nbconvert_exporter": "python",
   "pygments_lexer": "ipython3",
   "version": "3.9.7"
  }
 },
 "nbformat": 4,
 "nbformat_minor": 5
}

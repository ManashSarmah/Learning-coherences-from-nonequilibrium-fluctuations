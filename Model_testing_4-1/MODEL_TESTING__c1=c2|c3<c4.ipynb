{
 "cells": [
  {
   "cell_type": "code",
   "execution_count": 1,
   "id": "6bd2e753",
   "metadata": {},
   "outputs": [],
   "source": [
    "import numpy as np\n",
    "import pandas as pd\n",
    "import matplotlib.pyplot as plt\n",
    "import pickle"
   ]
  },
  {
   "cell_type": "code",
   "execution_count": 2,
   "id": "29238724",
   "metadata": {},
   "outputs": [],
   "source": [
    "with open('KNN_4_1','rb') as file:\n",
    "    mp = pickle.load(file)"
   ]
  },
  {
   "cell_type": "code",
   "execution_count": 3,
   "id": "602f36b1",
   "metadata": {},
   "outputs": [],
   "source": [
    "test1=pd.read_excel('test_data_c1=c2|c3<c4.xlsx')"
   ]
  },
  {
   "cell_type": "code",
   "execution_count": 4,
   "id": "3203ab17",
   "metadata": {},
   "outputs": [
    {
     "data": {
      "text/html": [
       "<div>\n",
       "<style scoped>\n",
       "    .dataframe tbody tr th:only-of-type {\n",
       "        vertical-align: middle;\n",
       "    }\n",
       "\n",
       "    .dataframe tbody tr th {\n",
       "        vertical-align: top;\n",
       "    }\n",
       "\n",
       "    .dataframe thead th {\n",
       "        text-align: right;\n",
       "    }\n",
       "</style>\n",
       "<table border=\"1\" class=\"dataframe\">\n",
       "  <thead>\n",
       "    <tr style=\"text-align: right;\">\n",
       "      <th></th>\n",
       "      <th>c1</th>\n",
       "      <th>c2</th>\n",
       "      <th>c3</th>\n",
       "      <th>c4</th>\n",
       "    </tr>\n",
       "  </thead>\n",
       "  <tbody>\n",
       "    <tr>\n",
       "      <th>0</th>\n",
       "      <td>0.825931</td>\n",
       "      <td>0.825931</td>\n",
       "      <td>1.024480</td>\n",
       "      <td>1.193932</td>\n",
       "    </tr>\n",
       "    <tr>\n",
       "      <th>1</th>\n",
       "      <td>0.834376</td>\n",
       "      <td>0.834376</td>\n",
       "      <td>0.964320</td>\n",
       "      <td>1.331993</td>\n",
       "    </tr>\n",
       "    <tr>\n",
       "      <th>2</th>\n",
       "      <td>0.916691</td>\n",
       "      <td>0.916691</td>\n",
       "      <td>1.024306</td>\n",
       "      <td>1.183147</td>\n",
       "    </tr>\n",
       "    <tr>\n",
       "      <th>3</th>\n",
       "      <td>0.866426</td>\n",
       "      <td>0.866426</td>\n",
       "      <td>0.864534</td>\n",
       "      <td>1.007667</td>\n",
       "    </tr>\n",
       "    <tr>\n",
       "      <th>4</th>\n",
       "      <td>0.778904</td>\n",
       "      <td>0.778904</td>\n",
       "      <td>0.822459</td>\n",
       "      <td>0.889564</td>\n",
       "    </tr>\n",
       "    <tr>\n",
       "      <th>...</th>\n",
       "      <td>...</td>\n",
       "      <td>...</td>\n",
       "      <td>...</td>\n",
       "      <td>...</td>\n",
       "    </tr>\n",
       "    <tr>\n",
       "      <th>995</th>\n",
       "      <td>0.995163</td>\n",
       "      <td>0.995163</td>\n",
       "      <td>0.995847</td>\n",
       "      <td>1.454009</td>\n",
       "    </tr>\n",
       "    <tr>\n",
       "      <th>996</th>\n",
       "      <td>0.889150</td>\n",
       "      <td>0.889150</td>\n",
       "      <td>0.799367</td>\n",
       "      <td>0.924651</td>\n",
       "    </tr>\n",
       "    <tr>\n",
       "      <th>997</th>\n",
       "      <td>0.794226</td>\n",
       "      <td>0.794226</td>\n",
       "      <td>0.875584</td>\n",
       "      <td>1.137675</td>\n",
       "    </tr>\n",
       "    <tr>\n",
       "      <th>998</th>\n",
       "      <td>0.849862</td>\n",
       "      <td>0.849862</td>\n",
       "      <td>1.014004</td>\n",
       "      <td>1.455745</td>\n",
       "    </tr>\n",
       "    <tr>\n",
       "      <th>999</th>\n",
       "      <td>0.965953</td>\n",
       "      <td>0.965953</td>\n",
       "      <td>0.850350</td>\n",
       "      <td>0.916250</td>\n",
       "    </tr>\n",
       "  </tbody>\n",
       "</table>\n",
       "<p>1000 rows × 4 columns</p>\n",
       "</div>"
      ],
      "text/plain": [
       "           c1        c2        c3        c4\n",
       "0    0.825931  0.825931  1.024480  1.193932\n",
       "1    0.834376  0.834376  0.964320  1.331993\n",
       "2    0.916691  0.916691  1.024306  1.183147\n",
       "3    0.866426  0.866426  0.864534  1.007667\n",
       "4    0.778904  0.778904  0.822459  0.889564\n",
       "..        ...       ...       ...       ...\n",
       "995  0.995163  0.995163  0.995847  1.454009\n",
       "996  0.889150  0.889150  0.799367  0.924651\n",
       "997  0.794226  0.794226  0.875584  1.137675\n",
       "998  0.849862  0.849862  1.014004  1.455745\n",
       "999  0.965953  0.965953  0.850350  0.916250\n",
       "\n",
       "[1000 rows x 4 columns]"
      ]
     },
     "execution_count": 4,
     "metadata": {},
     "output_type": "execute_result"
    }
   ],
   "source": [
    "test1"
   ]
  },
  {
   "cell_type": "code",
   "execution_count": 5,
   "id": "d6bc3044",
   "metadata": {},
   "outputs": [],
   "source": [
    "p_test1=mp.predict_proba(test1.values)"
   ]
  },
  {
   "cell_type": "code",
   "execution_count": 6,
   "id": "6e07c47c",
   "metadata": {},
   "outputs": [],
   "source": [
    "c1t1=p_test1[:,0]\n",
    "c2t1=p_test1[:,1]\n",
    "c3t1=p_test1[:,2]\n",
    "c4t1=p_test1[:,3]"
   ]
  },
  {
   "cell_type": "code",
   "execution_count": 7,
   "id": "68ebde06",
   "metadata": {},
   "outputs": [],
   "source": [
    "y1t1=len(c1t1[c1t1==1])\n",
    "y2t1=len(c2t1[c2t1==1])\n",
    "y3t1=len(c3t1[c3t1==1])\n",
    "y4t1=len(c4t1[c4t1==1])\n",
    "\n",
    "y5t1=len(c1t1[(c1t1!=1) & (c1t1!=0)])\n",
    "y6t1=len(c2t1[(c2t1!=1) & (c2t1!=0)])\n",
    "y7t1=len(c3t1[(c3t1!=1) & (c3t1!=0)])\n",
    "y8t1=len(c4t1[(c4t1!=1) & (c4t1!=0)])"
   ]
  },
  {
   "cell_type": "code",
   "execution_count": 8,
   "id": "7e5190a5",
   "metadata": {},
   "outputs": [],
   "source": [
    "x1t1='$\\mathcal{P}(p_h)$=1\\nclass 0'\n",
    "x2t1='$\\mathcal{P}(p_h)$=1\\nclass 1'\n",
    "x3t1='$\\mathcal{P}(p_h)$=1\\nclass 2'\n",
    "x4t1='$\\mathcal{P}(p_h)$=1\\nclass 3'\n",
    "\n",
    "x5t1='$\\mathcal{P}(p_h)$<1\\nclass 0'\n",
    "x6t1='$\\mathcal{P}(p_h)$<1\\nclass 1'\n",
    "x7t1='$\\mathcal{P}(p_h)$<1\\nclass 2'\n",
    "x8t1='$\\mathcal{P}(p_h)$<1\\nclass 3'\n"
   ]
  },
  {
   "cell_type": "code",
   "execution_count": 9,
   "id": "b97c5a4d",
   "metadata": {},
   "outputs": [],
   "source": [
    "x_lab_t1=x1t1,x2t1,x3t1,x4t1,x5t1,x6t1,x7t1,x8t1\n",
    "y_lab_t1=y1t1,y2t1,y3t1,y4t1,y5t1,y6t1,y7t1,y8t1"
   ]
  },
  {
   "cell_type": "code",
   "execution_count": 11,
   "id": "15deb033",
   "metadata": {},
   "outputs": [
    {
     "data": {
      "text/plain": [
       "Text(0, 0.5, 'Occurances')"
      ]
     },
     "execution_count": 11,
     "metadata": {},
     "output_type": "execute_result"
    },
    {
     "data": {
      "image/png": "[encoded data removed]",
      "text/plain": [
       "<Figure size 600x300 with 1 Axes>"
      ]
     },
     "metadata": {},
     "output_type": "display_data"
    }
   ],
   "source": [
    "plt.figure(figsize=(6,3))\n",
    "plt.scatter(x_lab_t1,y_lab_t1)\n",
    "plt.vlines(x = x_lab_t1[0],ymin=-0.001, ymax = y_lab_t1[0], color = 'r',\n",
    "            label = 'axvline - % of full height')\n",
    "plt.text(x_lab_t1[0],y_lab_t1[0], f\"{y_lab_t1[0]}\", ha='left', va='bottom',fontsize=12)\n",
    "\n",
    "plt.vlines(x = x_lab_t1[1],ymin=-0.001, ymax = y_lab_t1[1], color = 'r',\n",
    "            label = 'axvline - % of full height')\n",
    "plt.text(x_lab_t1[1],y_lab_t1[1], f\"{y_lab_t1[1]}\", ha='left', va='bottom',fontsize=12)\n",
    "\n",
    "plt.vlines(x = x_lab_t1[2],ymin=-0.001, ymax = y_lab_t1[2], color = 'r',\n",
    "            label = 'axvline - % of full height')\n",
    "plt.text(x_lab_t1[2],y_lab_t1[2], f\"{y_lab_t1[2]}\", ha='left', va='bottom',fontsize=12)\n",
    "\n",
    "plt.vlines(x = x_lab_t1[3],ymin=-0.001, ymax = y_lab_t1[3], color = 'r',\n",
    "            label = 'axvline - % of full height')\n",
    "plt.text(x_lab_t1[3],y_lab_t1[3], f\"{y_lab_t1[3]}\", ha='left', va='bottom',fontsize=12)\n",
    "\n",
    "plt.vlines(x = x_lab_t1[4],ymin=-0.001, ymax = y_lab_t1[4], color = 'r',\n",
    "            label = 'axvline - % of full height')\n",
    "plt.text(x_lab_t1[4],y_lab_t1[4], f\"{y_lab_t1[4]}\", ha='left', va='bottom',fontsize=12)\n",
    "\n",
    "plt.vlines(x = x_lab_t1[5],ymin=-0.001, ymax = y_lab_t1[5], color = 'r',\n",
    "            label = 'axvline - % of full height')\n",
    "plt.text(x_lab_t1[5],y_lab_t1[5], f\"{y_lab_t1[5]}\", ha='left', va='bottom',fontsize=12)\n",
    "\n",
    "plt.vlines(x = x_lab_t1[6],ymin=-0.001, ymax = y_lab_t1[6], color = 'r',\n",
    "            label = 'axvline - % of full height')\n",
    "plt.text(x_lab_t1[6],y_lab_t1[6], f\"{y_lab_t1[6]}\", ha='left', va='bottom',fontsize=12)\n",
    "\n",
    "plt.vlines(x = x_lab_t1[7],ymin=-0.001, ymax = y_lab_t1[7], color = 'r',\n",
    "            label = 'axvline - % of full height')\n",
    "plt.text(x_lab_t1[7],y_lab_t1[7], f\"{y_lab_t1[7]}\", ha='left', va='bottom',fontsize=12)\n",
    "plt.annotate('$C^{{(1)}}=C^{{(2)}},C^{{(3)}}<C^{{(4)}}$', xy=(0.3, 0.7), xycoords='axes fraction', fontsize=15, bbox=dict(boxstyle=\"round,pad=0.3\", fc=\"white\", ec=\"black\"))\n",
    "\n",
    "plt.xticks(fontsize=10)\n",
    "plt.yticks(fontsize=10)\n",
    "plt.ylim(top=700,bottom=0.01)\n",
    "plt.ylabel('Occurances',fontsize=10)"
   ]
  },
  {
   "cell_type": "code",
   "execution_count": 24,
   "id": "3ef33039",
   "metadata": {},
   "outputs": [
    {
     "data": {
      "text/plain": [
       "array([0.82593067, 0.82593067, 0.97084761, 0.97084761])"
      ]
     },
     "execution_count": 24,
     "metadata": {},
     "output_type": "execute_result"
    }
   ],
   "source": [
    "test1.values[0]"
   ]
  },
  {
   "cell_type": "code",
   "execution_count": 31,
   "id": "9c7d5bff",
   "metadata": {},
   "outputs": [
    {
     "data": {
      "text/plain": [
       "array([[0., 0., 0., 1.]])"
      ]
     },
     "execution_count": 31,
     "metadata": {},
     "output_type": "execute_result"
    }
   ],
   "source": [
    "mp.predict_proba([test1.values[895]])"
   ]
  },
  {
   "cell_type": "code",
   "execution_count": null,
   "id": "8f681bf2",
   "metadata": {},
   "outputs": [],
   "source": []
  }
 ],
 "metadata": {
  "kernelspec": {
   "display_name": "Python 3 (ipykernel)",
   "language": "python",
   "name": "python3"
  },
  "language_info": {
   "codemirror_mode": {
    "name": "ipython",
    "version": 3
   },
   "file_extension": ".py",
   "mimetype": "text/x-python",
   "name": "python",
   "nbconvert_exporter": "python",
   "pygments_lexer": "ipython3",
   "version": "3.9.7"
  }
 },
 "nbformat": 4,
 "nbformat_minor": 5
}

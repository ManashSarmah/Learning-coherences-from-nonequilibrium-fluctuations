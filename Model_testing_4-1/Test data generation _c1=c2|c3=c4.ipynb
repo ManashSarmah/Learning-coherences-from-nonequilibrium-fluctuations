{
 "cells": [
  {
   "cell_type": "code",
   "execution_count": 1,
   "id": "600fb464",
   "metadata": {},
   "outputs": [],
   "source": [
    "import numpy as np\n",
    "import matplotlib.pyplot as plt\n",
    "import pandas as pd"
   ]
  },
  {
   "cell_type": "code",
   "execution_count": 2,
   "id": "e5f9abe0",
   "metadata": {},
   "outputs": [
    {
     "name": "stdout",
     "output_type": "stream",
     "text": [
      "c1: [0.82593067 0.83437607 0.91669133 0.86642565 0.77890402 0.96374883\n",
      " 0.99404333 0.9794879  0.77579852 0.86682463]\n",
      "c2: [0.82593067 0.83437607 0.91669133 0.86642565 0.77890402 0.96374883\n",
      " 0.99404333 0.9794879  0.77579852 0.86682463]\n",
      "c3: [0.97084761 0.85643574 0.83010323 0.90781058 0.93344282 0.77758088\n",
      " 1.04264571 0.81629528 0.80695265 0.78816828]\n",
      "c4: [0.97084761 0.85643574 0.83010323 0.90781058 0.93344282 0.77758088\n",
      " 1.04264571 0.81629528 0.80695265 0.78816828]\n"
     ]
    }
   ],
   "source": [
    "import numpy as np\n",
    "\n",
    "# Define the ranges of c1, c2, c3, and c4\n",
    "c1_range = (0.7737, 1.0397)\n",
    "c2_range = (0.8073, 1.0678)\n",
    "c3_range = (0.7722, 1.0678)\n",
    "c4_range = (0.7756, 1.0270)\n",
    "\n",
    "# Generate random arrays c1 and c2 with the same values within their respective range\n",
    "c1 = np.random.uniform(c1_range[0], c1_range[1], size=1000)\n",
    "c2 = np.copy(c1)\n",
    "\n",
    "# Generate random arrays c3 and c4 with the same values within their respective range\n",
    "c3 = np.random.uniform(c3_range[0], c3_range[1], size=1000)\n",
    "c4 = np.copy(c3)\n",
    "\n",
    "# Print the first 10 elements of each array\n",
    "print(\"c1:\", c1[:10])\n",
    "print(\"c2:\", c2[:10])\n",
    "print(\"c3:\", c3[:10])\n",
    "print(\"c4:\", c4[:10])\n"
   ]
  },
  {
   "cell_type": "code",
   "execution_count": 3,
   "id": "4667ca92",
   "metadata": {},
   "outputs": [],
   "source": [
    "# Create a pandas dataframe with four columns for c1, c2, c3, and c4\n",
    "df = pd.DataFrame({'c1': c1, 'c2': c2, 'c3': c3, 'c4': c4})"
   ]
  },
  {
   "cell_type": "code",
   "execution_count": 4,
   "id": "b2b3d0a1",
   "metadata": {
    "scrolled": true
   },
   "outputs": [
    {
     "data": {
      "text/html": [
       "<div>\n",
       "<style scoped>\n",
       "    .dataframe tbody tr th:only-of-type {\n",
       "        vertical-align: middle;\n",
       "    }\n",
       "\n",
       "    .dataframe tbody tr th {\n",
       "        vertical-align: top;\n",
       "    }\n",
       "\n",
       "    .dataframe thead th {\n",
       "        text-align: right;\n",
       "    }\n",
       "</style>\n",
       "<table border=\"1\" class=\"dataframe\">\n",
       "  <thead>\n",
       "    <tr style=\"text-align: right;\">\n",
       "      <th></th>\n",
       "      <th>c1</th>\n",
       "      <th>c2</th>\n",
       "      <th>c3</th>\n",
       "      <th>c4</th>\n",
       "    </tr>\n",
       "  </thead>\n",
       "  <tbody>\n",
       "    <tr>\n",
       "      <th>0</th>\n",
       "      <td>0.825931</td>\n",
       "      <td>0.825931</td>\n",
       "      <td>0.970848</td>\n",
       "      <td>0.970848</td>\n",
       "    </tr>\n",
       "    <tr>\n",
       "      <th>1</th>\n",
       "      <td>0.834376</td>\n",
       "      <td>0.834376</td>\n",
       "      <td>0.856436</td>\n",
       "      <td>0.856436</td>\n",
       "    </tr>\n",
       "    <tr>\n",
       "      <th>2</th>\n",
       "      <td>0.916691</td>\n",
       "      <td>0.916691</td>\n",
       "      <td>0.830103</td>\n",
       "      <td>0.830103</td>\n",
       "    </tr>\n",
       "    <tr>\n",
       "      <th>3</th>\n",
       "      <td>0.866426</td>\n",
       "      <td>0.866426</td>\n",
       "      <td>0.907811</td>\n",
       "      <td>0.907811</td>\n",
       "    </tr>\n",
       "    <tr>\n",
       "      <th>4</th>\n",
       "      <td>0.778904</td>\n",
       "      <td>0.778904</td>\n",
       "      <td>0.933443</td>\n",
       "      <td>0.933443</td>\n",
       "    </tr>\n",
       "    <tr>\n",
       "      <th>...</th>\n",
       "      <td>...</td>\n",
       "      <td>...</td>\n",
       "      <td>...</td>\n",
       "      <td>...</td>\n",
       "    </tr>\n",
       "    <tr>\n",
       "      <th>995</th>\n",
       "      <td>0.995163</td>\n",
       "      <td>0.995163</td>\n",
       "      <td>0.848672</td>\n",
       "      <td>0.848672</td>\n",
       "    </tr>\n",
       "    <tr>\n",
       "      <th>996</th>\n",
       "      <td>0.889150</td>\n",
       "      <td>0.889150</td>\n",
       "      <td>1.037205</td>\n",
       "      <td>1.037205</td>\n",
       "    </tr>\n",
       "    <tr>\n",
       "      <th>997</th>\n",
       "      <td>0.794226</td>\n",
       "      <td>0.794226</td>\n",
       "      <td>1.064607</td>\n",
       "      <td>1.064607</td>\n",
       "    </tr>\n",
       "    <tr>\n",
       "      <th>998</th>\n",
       "      <td>0.849862</td>\n",
       "      <td>0.849862</td>\n",
       "      <td>0.773532</td>\n",
       "      <td>0.773532</td>\n",
       "    </tr>\n",
       "    <tr>\n",
       "      <th>999</th>\n",
       "      <td>0.965953</td>\n",
       "      <td>0.965953</td>\n",
       "      <td>0.920832</td>\n",
       "      <td>0.920832</td>\n",
       "    </tr>\n",
       "  </tbody>\n",
       "</table>\n",
       "<p>1000 rows × 4 columns</p>\n",
       "</div>"
      ],
      "text/plain": [
       "           c1        c2        c3        c4\n",
       "0    0.825931  0.825931  0.970848  0.970848\n",
       "1    0.834376  0.834376  0.856436  0.856436\n",
       "2    0.916691  0.916691  0.830103  0.830103\n",
       "3    0.866426  0.866426  0.907811  0.907811\n",
       "4    0.778904  0.778904  0.933443  0.933443\n",
       "..        ...       ...       ...       ...\n",
       "995  0.995163  0.995163  0.848672  0.848672\n",
       "996  0.889150  0.889150  1.037205  1.037205\n",
       "997  0.794226  0.794226  1.064607  1.064607\n",
       "998  0.849862  0.849862  0.773532  0.773532\n",
       "999  0.965953  0.965953  0.920832  0.920832\n",
       "\n",
       "[1000 rows x 4 columns]"
      ]
     },
     "execution_count": 4,
     "metadata": {},
     "output_type": "execute_result"
    }
   ],
   "source": [
    "df"
   ]
  },
  {
   "cell_type": "code",
   "execution_count": 5,
   "id": "28fda4bb",
   "metadata": {},
   "outputs": [],
   "source": [
    "# Export the dataframe to an Excel file\n",
    "df.to_excel('test_data_c1=c2|c3=c4.xlsx', index=False)"
   ]
  },
  {
   "cell_type": "code",
   "execution_count": null,
   "id": "cd851fd5",
   "metadata": {},
   "outputs": [],
   "source": []
  }
 ],
 "metadata": {
  "kernelspec": {
   "display_name": "Python 3 (ipykernel)",
   "language": "python",
   "name": "python3"
  },
  "language_info": {
   "codemirror_mode": {
    "name": "ipython",
    "version": 3
   },
   "file_extension": ".py",
   "mimetype": "text/x-python",
   "name": "python",
   "nbconvert_exporter": "python",
   "pygments_lexer": "ipython3",
   "version": "3.9.7"
  }
 },
 "nbformat": 4,
 "nbformat_minor": 5
}

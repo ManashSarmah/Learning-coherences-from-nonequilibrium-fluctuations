{
 "cells": [
  {
   "cell_type": "code",
   "execution_count": 1,
   "id": "8688034d",
   "metadata": {},
   "outputs": [],
   "source": [
    "import numpy as np\n",
    "import matplotlib.pyplot as plt\n",
    "import pandas as pd"
   ]
  },
  {
   "cell_type": "code",
   "execution_count": 2,
   "id": "cad2898d",
   "metadata": {},
   "outputs": [],
   "source": [
    "df=pd.read_excel('RE_Data.xlsx')"
   ]
  },
  {
   "cell_type": "code",
   "execution_count": 3,
   "id": "411f814a",
   "metadata": {},
   "outputs": [],
   "source": [
    "df = df.drop(df.columns[df.columns.str.contains('unnamed', case=False)], axis=1)"
   ]
  },
  {
   "cell_type": "code",
   "execution_count": 4,
   "id": "5c231e4c",
   "metadata": {},
   "outputs": [],
   "source": [
    "# Shuffle the DataFrame\n",
    "df_shuff = df[0:50_000]"
   ]
  },
  {
   "cell_type": "code",
   "execution_count": 5,
   "id": "c7860840",
   "metadata": {},
   "outputs": [],
   "source": [
    "from sklearn.model_selection import train_test_split"
   ]
  },
  {
   "cell_type": "code",
   "execution_count": 6,
   "id": "57b214f4",
   "metadata": {},
   "outputs": [],
   "source": [
    "var_columns = [c for c in df_shuff if c not in ['ph','ph_labels']]\n",
    "\n",
    "X = df_shuff.loc[:,var_columns].values\n",
    "y = df_shuff.loc[:,'ph_labels'].values"
   ]
  },
  {
   "cell_type": "code",
   "execution_count": 7,
   "id": "efd8317f",
   "metadata": {},
   "outputs": [],
   "source": [
    "X_train, X_test, y_train, y_test = train_test_split(X, y, test_size=0.3, random_state=42,shuffle=True)"
   ]
  },
  {
   "cell_type": "code",
   "execution_count": 8,
   "id": "32449587",
   "metadata": {},
   "outputs": [
    {
     "name": "stdout",
     "output_type": "stream",
     "text": [
      "Mean accuracy_train: 0.412\n",
      "Mean accuracy_test: 0.400\n"
     ]
    }
   ],
   "source": [
    "from sklearn.model_selection import KFold, cross_val_score\n",
    "from sklearn.naive_bayes import GaussianNB\n",
    "# Create the model\n",
    "model = GaussianNB(var_smoothing = 0.004977023564332114)\n",
    "\n",
    "# Use the KFold function to split the data into 5 folds\n",
    "kf = KFold(n_splits=5)\n",
    "\n",
    "# Use the cross_val_score function to calculate the accuracy scores for each fold\n",
    "accuracies_train = cross_val_score(model, X_train, y_train, cv=kf)\n",
    "# Use the cross_val_score function to calculate the accuracy scores for each fold\n",
    "accuracies_test = cross_val_score(model, X_test, y_test, cv=kf)\n",
    "# Calculate the mean accuracy score across all the folds\n",
    "mean_accuracy_train = accuracies_train.mean()\n",
    "mean_accuracy_test = accuracies_test.mean()\n",
    "print(f\"Mean accuracy_train: {mean_accuracy_train:.3f}\")\n",
    "print(f\"Mean accuracy_test: {mean_accuracy_test:.3f}\")\n"
   ]
  },
  {
   "cell_type": "code",
   "execution_count": 9,
   "id": "bc6a20b3",
   "metadata": {},
   "outputs": [
    {
     "data": {
      "text/plain": [
       "GaussianNB(var_smoothing=0.004977023564332114)"
      ]
     },
     "execution_count": 9,
     "metadata": {},
     "output_type": "execute_result"
    }
   ],
   "source": [
    "model.fit(X_train, y_train)"
   ]
  },
  {
   "cell_type": "code",
   "execution_count": 10,
   "id": "df608de8",
   "metadata": {},
   "outputs": [],
   "source": [
    "from sklearn.inspection import permutation_importance\n",
    "\n",
    "# Assuming you have trained a model named 'model' and have X_test and y_test as your test data\n",
    "result = permutation_importance(model, X_test, y_test, n_repeats=10, random_state=42)\n",
    "\n",
    "importances = result.importances_mean"
   ]
  },
  {
   "cell_type": "code",
   "execution_count": 11,
   "id": "ac306060",
   "metadata": {
    "scrolled": true
   },
   "outputs": [
    {
     "data": {
      "text/plain": [
       "array([0.04758   , 0.06189333, 0.0371    , 0.02654667])"
      ]
     },
     "execution_count": 11,
     "metadata": {},
     "output_type": "execute_result"
    }
   ],
   "source": [
    "importances"
   ]
  },
  {
   "cell_type": "code",
   "execution_count": null,
   "id": "da6a7611",
   "metadata": {},
   "outputs": [],
   "source": []
  },
  {
   "cell_type": "code",
   "execution_count": 12,
   "id": "aa88ffdf",
   "metadata": {},
   "outputs": [],
   "source": [
    "datasize_tr = np.array([700,6500,7000,10500,14000,17500,21000,24500,28000,31500,35000])\n",
    "datasize_vl = np.array([300,1500,3000,4500,6000,7500,9000,10500,12000,13500,15000])"
   ]
  },
  {
   "cell_type": "code",
   "execution_count": null,
   "id": "6c6bda06",
   "metadata": {},
   "outputs": [],
   "source": []
  },
  {
   "cell_type": "code",
   "execution_count": null,
   "id": "2a3bdf85",
   "metadata": {},
   "outputs": [],
   "source": []
  }
 ],
 "metadata": {
  "kernelspec": {
   "display_name": "Python 3 (ipykernel)",
   "language": "python",
   "name": "python3"
  },
  "language_info": {
   "codemirror_mode": {
    "name": "ipython",
    "version": 3
   },
   "file_extension": ".py",
   "mimetype": "text/x-python",
   "name": "python",
   "nbconvert_exporter": "python",
   "pygments_lexer": "ipython3",
   "version": "3.9.7"
  }
 },
 "nbformat": 4,
 "nbformat_minor": 5
}

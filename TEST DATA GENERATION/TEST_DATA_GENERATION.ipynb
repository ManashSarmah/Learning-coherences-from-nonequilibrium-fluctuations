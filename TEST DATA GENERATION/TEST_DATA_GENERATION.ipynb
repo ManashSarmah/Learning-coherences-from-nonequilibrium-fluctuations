{
 "cells": [
  {
   "cell_type": "code",
   "execution_count": 21,
   "id": "c845eb38",
   "metadata": {},
   "outputs": [],
   "source": [
    "import numpy as np\n",
    "import pandas as pd\n",
    "# Generate 1000 random values within the specified ranges\n",
    "c1 = np.random.uniform(0.773, 1.039, size=3000)\n",
    "c2 = np.random.uniform(0.807, 1.067, size=3000)\n",
    "\n",
    "# Keep only the values where c3 > c4\n",
    "mask = c1 < c2\n",
    "c1 = c1[mask][0:1000]\n",
    "c2 = c2[mask][0:1000]\n",
    "\n",
    "\n"
   ]
  },
  {
   "cell_type": "code",
   "execution_count": 22,
   "id": "645b0242",
   "metadata": {},
   "outputs": [],
   "source": [
    "imp_ = pd.DataFrame()"
   ]
  },
  {
   "cell_type": "code",
   "execution_count": 23,
   "id": "3de31de9",
   "metadata": {},
   "outputs": [],
   "source": [
    "imp_['c1'] = c1\n",
    "imp_['c2'] = c2"
   ]
  },
  {
   "cell_type": "code",
   "execution_count": 24,
   "id": "2a12e00e",
   "metadata": {},
   "outputs": [
    {
     "data": {
      "text/html": [
       "<div>\n",
       "<style scoped>\n",
       "    .dataframe tbody tr th:only-of-type {\n",
       "        vertical-align: middle;\n",
       "    }\n",
       "\n",
       "    .dataframe tbody tr th {\n",
       "        vertical-align: top;\n",
       "    }\n",
       "\n",
       "    .dataframe thead th {\n",
       "        text-align: right;\n",
       "    }\n",
       "</style>\n",
       "<table border=\"1\" class=\"dataframe\">\n",
       "  <thead>\n",
       "    <tr style=\"text-align: right;\">\n",
       "      <th></th>\n",
       "      <th>c1</th>\n",
       "      <th>c2</th>\n",
       "    </tr>\n",
       "  </thead>\n",
       "  <tbody>\n",
       "    <tr>\n",
       "      <th>0</th>\n",
       "      <td>0.829590</td>\n",
       "      <td>0.916136</td>\n",
       "    </tr>\n",
       "    <tr>\n",
       "      <th>1</th>\n",
       "      <td>0.830993</td>\n",
       "      <td>0.958169</td>\n",
       "    </tr>\n",
       "    <tr>\n",
       "      <th>2</th>\n",
       "      <td>0.822711</td>\n",
       "      <td>1.015930</td>\n",
       "    </tr>\n",
       "    <tr>\n",
       "      <th>3</th>\n",
       "      <td>0.816364</td>\n",
       "      <td>0.935028</td>\n",
       "    </tr>\n",
       "    <tr>\n",
       "      <th>4</th>\n",
       "      <td>0.908855</td>\n",
       "      <td>0.956333</td>\n",
       "    </tr>\n",
       "    <tr>\n",
       "      <th>...</th>\n",
       "      <td>...</td>\n",
       "      <td>...</td>\n",
       "    </tr>\n",
       "    <tr>\n",
       "      <th>995</th>\n",
       "      <td>0.775064</td>\n",
       "      <td>0.910742</td>\n",
       "    </tr>\n",
       "    <tr>\n",
       "      <th>996</th>\n",
       "      <td>0.939571</td>\n",
       "      <td>0.950539</td>\n",
       "    </tr>\n",
       "    <tr>\n",
       "      <th>997</th>\n",
       "      <td>0.964101</td>\n",
       "      <td>1.005892</td>\n",
       "    </tr>\n",
       "    <tr>\n",
       "      <th>998</th>\n",
       "      <td>0.892456</td>\n",
       "      <td>1.017053</td>\n",
       "    </tr>\n",
       "    <tr>\n",
       "      <th>999</th>\n",
       "      <td>0.963876</td>\n",
       "      <td>1.034484</td>\n",
       "    </tr>\n",
       "  </tbody>\n",
       "</table>\n",
       "<p>1000 rows × 2 columns</p>\n",
       "</div>"
      ],
      "text/plain": [
       "           c1        c2\n",
       "0    0.829590  0.916136\n",
       "1    0.830993  0.958169\n",
       "2    0.822711  1.015930\n",
       "3    0.816364  0.935028\n",
       "4    0.908855  0.956333\n",
       "..        ...       ...\n",
       "995  0.775064  0.910742\n",
       "996  0.939571  0.950539\n",
       "997  0.964101  1.005892\n",
       "998  0.892456  1.017053\n",
       "999  0.963876  1.034484\n",
       "\n",
       "[1000 rows x 2 columns]"
      ]
     },
     "execution_count": 24,
     "metadata": {},
     "output_type": "execute_result"
    }
   ],
   "source": [
    "imp_"
   ]
  },
  {
   "cell_type": "code",
   "execution_count": 25,
   "id": "9b23cc54",
   "metadata": {},
   "outputs": [
    {
     "data": {
      "text/plain": [
       "0"
      ]
     },
     "execution_count": 25,
     "metadata": {},
     "output_type": "execute_result"
    }
   ],
   "source": [
    "np.count_nonzero(c1>c2)"
   ]
  },
  {
   "cell_type": "code",
   "execution_count": 26,
   "id": "3994786e",
   "metadata": {},
   "outputs": [
    {
     "data": {
      "text/plain": [
       "1.0386374143648722"
      ]
     },
     "execution_count": 26,
     "metadata": {},
     "output_type": "execute_result"
    }
   ],
   "source": [
    "np.max(c1)"
   ]
  },
  {
   "cell_type": "code",
   "execution_count": 27,
   "id": "6985b5b3",
   "metadata": {},
   "outputs": [],
   "source": [
    "# Save the DataFrame to a CSV file\n",
    "imp_.to_excel('c1<c2.xlsx', index=False)\n"
   ]
  },
  {
   "cell_type": "code",
   "execution_count": null,
   "id": "17242587",
   "metadata": {},
   "outputs": [],
   "source": []
  }
 ],
 "metadata": {
  "kernelspec": {
   "display_name": "Python 3 (ipykernel)",
   "language": "python",
   "name": "python3"
  },
  "language_info": {
   "codemirror_mode": {
    "name": "ipython",
    "version": 3
   },
   "file_extension": ".py",
   "mimetype": "text/x-python",
   "name": "python",
   "nbconvert_exporter": "python",
   "pygments_lexer": "ipython3",
   "version": "3.9.7"
  }
 },
 "nbformat": 4,
 "nbformat_minor": 5
}

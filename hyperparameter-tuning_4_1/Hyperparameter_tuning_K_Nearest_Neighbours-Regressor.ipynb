{
 "cells": [
  {
   "cell_type": "markdown",
   "id": "524433b1",
   "metadata": {},
   "source": [
    "Here, we are using KNeighborsClassifier as the base model for RandomizedSearchCV. We have defined a hyperparameter grid to search over that includes the number of neighbors (n_neighbors), weight function (weights), and distance metric (metric).\n",
    "\n",
    "The range of values for n_neighbors is chosen as odd numbers from 1 to 51, as KNN performs better with an odd number of neighbors to avoid ties. The weight function is chosen as uniform and distance, and the metric is chosen as euclidean, manhattan, and minkowski.\n",
    "\n",
    "We have set the number of iterations (n_iter) to 50 and the number of cross-validation folds (cv) to 5, which determines how many times the data will be split into training and validation sets during the search.\n",
    "\n",
    "Finally, we fit the RandomizedSearchCV object to the training data, predict on the test set, and report the train and test accuracy, classification report, and best hyperparameters found during the search.\n",
    "\n",
    "Note that the hyperparameters and their ranges were chosen based on empirical evidence and prior knowledge about the KNN classifier. The choice of hyperparameters and their ranges may vary depending on the specific problem and dataset."
   ]
  },
  {
   "cell_type": "code",
   "execution_count": 1,
   "id": "8688034d",
   "metadata": {},
   "outputs": [],
   "source": [
    "import numpy as np\n",
    "import matplotlib.pyplot as plt\n",
    "import pandas as pd"
   ]
  },
  {
   "cell_type": "code",
   "execution_count": 2,
   "id": "cad2898d",
   "metadata": {},
   "outputs": [],
   "source": [
    "df=pd.read_excel('RE_Data.xlsx')"
   ]
  },
  {
   "cell_type": "code",
   "execution_count": 3,
   "id": "411f814a",
   "metadata": {},
   "outputs": [],
   "source": [
    "df = df.drop(df.columns[df.columns.str.contains('unnamed', case=False)], axis=1)"
   ]
  },
  {
   "cell_type": "code",
   "execution_count": 4,
   "id": "5c231e4c",
   "metadata": {},
   "outputs": [],
   "source": [
    "# Shuffle the DataFrame\n",
    "df_shuff = df"
   ]
  },
  {
   "cell_type": "code",
   "execution_count": 5,
   "id": "c7860840",
   "metadata": {},
   "outputs": [],
   "source": [
    "from sklearn.model_selection import train_test_split"
   ]
  },
  {
   "cell_type": "code",
   "execution_count": 6,
   "id": "57b214f4",
   "metadata": {},
   "outputs": [],
   "source": [
    "var_columns = [c for c in df if c not in ['ph','ph_labels']]\n",
    "\n",
    "X = df.loc[:,var_columns].values\n",
    "y = df.loc[:,'ph'].values"
   ]
  },
  {
   "cell_type": "code",
   "execution_count": 7,
   "id": "006624a0",
   "metadata": {},
   "outputs": [
    {
     "name": "stdout",
     "output_type": "stream",
     "text": [
      "K-Nearest Neighbors Regressor train R^2 score: 1.000\n",
      "K-Nearest Neighbors Regressor valid R^2 score: 0.999\n",
      "K-Nearest Neighbors Regressor train RMSE score: 0.000\n",
      "K-Nearest Neighbors Regressor valid RMSE score: 0.009\n",
      "K-Nearest Neighbors Regressor best params:\n",
      "{'weights': 'distance', 'p': 2, 'n_neighbors': 4}\n",
      "\n"
     ]
    }
   ],
   "source": [
    "from sklearn.neighbors import KNeighborsRegressor\n",
    "from sklearn.model_selection import RandomizedSearchCV, train_test_split\n",
    "from sklearn.metrics import mean_squared_error, r2_score\n",
    "import numpy as np\n",
    "\n",
    "# Split the data into training and testing sets\n",
    "X_train, X_valid, y_train, y_valid = train_test_split(X, y, test_size=0.3, random_state=42)\n",
    "\n",
    "# Define the KNN regression model\n",
    "model = KNeighborsRegressor()\n",
    "\n",
    "# Define the hyperparameter grid to search over\n",
    "param_dist = {\n",
    "    'n_neighbors': np.arange(1, 51),\n",
    "    'weights': ['uniform', 'distance'],\n",
    "    'p': [1, 2]\n",
    "}\n",
    "\n",
    "# Define the randomized search object\n",
    "search = RandomizedSearchCV(model, param_distributions=param_dist, n_iter=50, cv=5, random_state=42)\n",
    "\n",
    "# Fit the randomized search object to the training data\n",
    "search.fit(X_train, y_train)\n",
    "\n",
    "# Evaluate the model on training and validation sets\n",
    "y_pred_train = search.predict(X_train)\n",
    "y_pred_valid = search.predict(X_valid)\n",
    "\n",
    "mse_train = mean_squared_error(y_train, y_pred_train)\n",
    "mse_valid = mean_squared_error(y_valid, y_pred_valid)\n",
    "rmse_train = np.sqrt(mse_train)\n",
    "rmse_valid = np.sqrt(mse_valid)\n",
    "r2_train = r2_score(y_train, y_pred_train)\n",
    "r2_valid = r2_score(y_valid, y_pred_valid)\n",
    "\n",
    "print(\"K-Nearest Neighbors Regressor train R^2 score: {:.3f}\".format(r2_train))\n",
    "print(\"K-Nearest Neighbors Regressor valid R^2 score: {:.3f}\".format(r2_valid))\n",
    "print(\"K-Nearest Neighbors Regressor train RMSE score: {:.3f}\".format(rmse_train))\n",
    "print(\"K-Nearest Neighbors Regressor valid RMSE score: {:.3f}\".format(rmse_valid))\n",
    "print(\"K-Nearest Neighbors Regressor best params:\\n{}\\n\".format(search.best_params_))\n"
   ]
  },
  {
   "cell_type": "code",
   "execution_count": null,
   "id": "2e8c8e72",
   "metadata": {
    "scrolled": true
   },
   "outputs": [],
   "source": [
    "# from sklearn.ensemble import AdaBoostClassifier\n",
    "# from sklearn.model_selection import RandomizedSearchCV, train_test_split\n",
    "# from sklearn.metrics import classification_report\n",
    "\n",
    "\n",
    "# # Split the data into training and testing sets\n",
    "# X_train, X_test, y_train, y_test = train_test_split(X, y, test_size=0.3, random_state=42)\n",
    "\n",
    "# # Define the AdaBoost classifier model\n",
    "# model = AdaBoostClassifier()\n",
    "\n",
    "# # Define the hyperparameter grid to search over\n",
    "# param_dist = {\n",
    "#     'n_estimators': np.arange(50, 501, 50),\n",
    "#     'learning_rate': np.logspace(-4, 0, 50),\n",
    "#     'algorithm': ['SAMME', 'SAMME.R']\n",
    "# }\n",
    "\n",
    "# # Define the randomized search object\n",
    "# search = RandomizedSearchCV(model, param_distributions=param_dist, n_iter=50, cv=5, random_state=42)\n",
    "\n",
    "# # Fit the randomized search object to the training data\n",
    "# search.fit(X_train, y_train)\n",
    "\n",
    "\n",
    "# y_pred = search.predict(X_test)\n",
    "# accuracy_train = search.score(X_train, y_train)\n",
    "# accuracy_test = search.score(X_test, y_test)\n",
    "\n",
    "# report_test = classification_report(y_test, y_pred)\n",
    "\n",
    "# print(\"AdaBoostClassifier_train \",accuracy_train)\n",
    "# print(\"AdaBoostClassifier report:\\n{}\\nAccuracy_test: {:.3f}\\n\".format(report_test, accuracy_test))\n",
    "# print(\"AdaBoostClassifier best params:\\n{}\\n\".format(search.best_params_))\n",
    "\n",
    "\n"
   ]
  },
  {
   "cell_type": "code",
   "execution_count": 16,
   "id": "24fe4a36",
   "metadata": {},
   "outputs": [],
   "source": []
  },
  {
   "cell_type": "code",
   "execution_count": null,
   "id": "048f1390",
   "metadata": {},
   "outputs": [],
   "source": []
  }
 ],
 "metadata": {
  "kernelspec": {
   "display_name": "Python 3 (ipykernel)",
   "language": "python",
   "name": "python3"
  },
  "language_info": {
   "codemirror_mode": {
    "name": "ipython",
    "version": 3
   },
   "file_extension": ".py",
   "mimetype": "text/x-python",
   "name": "python",
   "nbconvert_exporter": "python",
   "pygments_lexer": "ipython3",
   "version": "3.9.7"
  }
 },
 "nbformat": 4,
 "nbformat_minor": 5
}

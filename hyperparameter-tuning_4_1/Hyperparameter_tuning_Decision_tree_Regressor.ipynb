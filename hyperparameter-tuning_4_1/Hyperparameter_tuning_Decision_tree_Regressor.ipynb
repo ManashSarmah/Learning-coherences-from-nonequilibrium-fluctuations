{
 "cells": [
  {
   "cell_type": "markdown",
   "id": "524433b1",
   "metadata": {},
   "source": [
    "Here, we are using Decision Tree Classifier as the base model for RandomizedSearchCV. We have defined a hyperparameter grid to search over that includes the maximum depth of the tree (max_depth), minimum number of samples required to split a node (min_samples_split), minimum number of samples required at a leaf node (min_samples_leaf), and the criterion used for splitting ('gini' or 'entropy').\n",
    "\n",
    "The range of values for each hyperparameter are chosen based on prior knowledge about the classifier and the problem at hand. For example, we have set the range of values for max_depth from 1 to 20, as we know that having a very deep tree may lead to overfitting.\n",
    "\n",
    "We have set the number of iterations (n_iter) to 50 and the number of cross-validation folds (cv) to 5, which determines how many times the data will be split into training and validation sets during the search.\n",
    "\n",
    "Finally, we fit the RandomizedSearchCV object to the training data, predict on the test set, and report the train and test accuracy, classification report, and best hyperparameters found during the search.\n",
    "\n",
    "Note that the hyperparameters and their ranges were chosen based on empirical evidence and prior knowledge about the Decision Tree Classifier. The choice of hyperparameters and their ranges may vary depending on the specific problem and dataset."
   ]
  },
  {
   "cell_type": "code",
   "execution_count": 1,
   "id": "8688034d",
   "metadata": {},
   "outputs": [],
   "source": [
    "import numpy as np\n",
    "import matplotlib.pyplot as plt\n",
    "import pandas as pd"
   ]
  },
  {
   "cell_type": "code",
   "execution_count": 2,
   "id": "cad2898d",
   "metadata": {},
   "outputs": [],
   "source": [
    "df=pd.read_excel('RE_Data.xlsx')"
   ]
  },
  {
   "cell_type": "code",
   "execution_count": 3,
   "id": "411f814a",
   "metadata": {},
   "outputs": [],
   "source": [
    "df = df.drop(df.columns[df.columns.str.contains('unnamed', case=False)], axis=1)"
   ]
  },
  {
   "cell_type": "code",
   "execution_count": 4,
   "id": "5c231e4c",
   "metadata": {},
   "outputs": [],
   "source": [
    "# Shuffle the DataFrame\n",
    "df_shuff = df"
   ]
  },
  {
   "cell_type": "code",
   "execution_count": 5,
   "id": "c7860840",
   "metadata": {},
   "outputs": [],
   "source": [
    "from sklearn.model_selection import train_test_split"
   ]
  },
  {
   "cell_type": "code",
   "execution_count": 6,
   "id": "57b214f4",
   "metadata": {},
   "outputs": [],
   "source": [
    "var_columns = [c for c in df if c not in ['ph','ph_labels']]\n",
    "\n",
    "X = df.loc[:,var_columns].values\n",
    "y = df.loc[:,'ph'].values"
   ]
  },
  {
   "cell_type": "code",
   "execution_count": 9,
   "id": "8396a58a",
   "metadata": {},
   "outputs": [
    {
     "name": "stdout",
     "output_type": "stream",
     "text": [
      "DecisionTreeRegressor_train R-squared score: 0.996\n",
      "DecisionTreeRegressor_valid R-squared score: 0.992\n"
     ]
    }
   ],
   "source": [
    "from sklearn.tree import DecisionTreeRegressor\n",
    "from sklearn.metrics import mean_squared_error, r2_score\n",
    "from sklearn.model_selection import RandomizedSearchCV, train_test_split\n",
    "import numpy as np\n",
    "\n",
    "# Split the data into training and testing sets\n",
    "X_train, X_valid, y_train, y_valid = train_test_split(X, y, test_size=0.3, random_state=42)\n",
    "\n",
    "# Define the Decision Tree Regressor model\n",
    "model = DecisionTreeRegressor()\n",
    "\n",
    "# Define the hyperparameter grid to search over\n",
    "param_dist = {\n",
    "    'max_depth': np.arange(1, 21),\n",
    "    'min_samples_split': np.arange(2, 11),\n",
    "    'min_samples_leaf': np.arange(1, 11),\n",
    "    'criterion': ['squared_error', 'friedman_mse', 'absolute_error']\n",
    "}\n",
    "\n",
    "# Define the randomized search object\n",
    "search = RandomizedSearchCV(model, param_distributions=param_dist, n_iter=50, cv=5, random_state=42)\n",
    "\n",
    "# Fit the randomized search object to the training data\n",
    "search.fit(X_train, y_train)\n",
    "\n",
    "y_pred_train = search.predict(X_train)\n",
    "y_pred_valid = search.predict(X_valid)\n",
    "\n",
    "mse_train = mean_squared_error(y_train, y_pred_train)\n",
    "mse_valid = mean_squared_error(y_valid, y_pred_valid)\n",
    "rmse_train = np.sqrt(mse_train)\n",
    "rmse_valid = np.sqrt(mse_valid)\n",
    "r2_train = r2_score(y_train, y_pred_train)\n",
    "r2_valid = r2_score(y_valid, y_pred_valid)\n",
    "\n",
    "print(\"DecisionTreeRegressor_train R-squared score: {:.3f}\".format(r2_train))\n",
    "print(\"DecisionTreeRegressor_valid R-squared score: {:.3f}\".format(r2_valid))\n"
   ]
  },
  {
   "cell_type": "code",
   "execution_count": 10,
   "id": "048f1390",
   "metadata": {},
   "outputs": [
    {
     "name": "stdout",
     "output_type": "stream",
     "text": [
      "DecisionTreeRegressor_train R^2 score: 0.996\n",
      "DecisionTreeRegressor_valid R^2 score: 0.992\n",
      "DecisionTreeRegressor_train RMSE score: 0.017\n",
      "DecisionTreeRegressor_valid RMSE score: 0.025\n",
      "DecisionTreeRegressor best params:\n",
      "{'min_samples_split': 3, 'min_samples_leaf': 1, 'max_depth': 20, 'criterion': 'absolute_error'}\n",
      "\n"
     ]
    }
   ],
   "source": [
    "print(\"DecisionTreeRegressor_train R^2 score: {:.3f}\".format(r2_train))\n",
    "print(\"DecisionTreeRegressor_valid R^2 score: {:.3f}\".format(r2_valid))\n",
    "print(\"DecisionTreeRegressor_train RMSE score: {:.3f}\".format(rmse_train))\n",
    "print(\"DecisionTreeRegressor_valid RMSE score: {:.3f}\".format(rmse_valid))\n",
    "print(\"DecisionTreeRegressor best params:\\n{}\\n\".format(search.best_params_))"
   ]
  },
  {
   "cell_type": "code",
   "execution_count": null,
   "id": "361037b7",
   "metadata": {},
   "outputs": [],
   "source": []
  }
 ],
 "metadata": {
  "kernelspec": {
   "display_name": "Python 3 (ipykernel)",
   "language": "python",
   "name": "python3"
  },
  "language_info": {
   "codemirror_mode": {
    "name": "ipython",
    "version": 3
   },
   "file_extension": ".py",
   "mimetype": "text/x-python",
   "name": "python",
   "nbconvert_exporter": "python",
   "pygments_lexer": "ipython3",
   "version": "3.9.7"
  }
 },
 "nbformat": 4,
 "nbformat_minor": 5
}

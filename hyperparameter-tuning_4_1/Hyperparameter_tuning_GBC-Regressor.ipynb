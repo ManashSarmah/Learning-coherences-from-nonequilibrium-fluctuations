{
 "cells": [
  {
   "cell_type": "markdown",
   "id": "524433b1",
   "metadata": {},
   "source": [
    "In this code, we use the GradientBoostingClassifier model from sklearn.ensemble module. We then define the hyperparameter grid to search over using param_dist dictionary. Here, we tune the learning rate, the number of trees (n_estimators), maximum depth of the trees (max_depth), minimum number of samples required to split an internal node (min_samples_split), and minimum number of samples required to be at a leaf node (min_samples_leaf).\n",
    "\n",
    "We then define the randomized search object with search = RandomizedSearchCV(model, param_distributions=param_dist, n_iter=50, cv=5, random_state=42) and fit it to the training data using search.fit(X_train, y_train). We make predictions on the testing data using search.predict(X_test).\n",
    "\n",
    "Finally, we evaluate the performance of the model using the score() method to calculate the accuracy on the training and testing data. We also generate a classification report for the testing data using classification_report() function."
   ]
  },
  {
   "cell_type": "code",
   "execution_count": 1,
   "id": "8688034d",
   "metadata": {},
   "outputs": [],
   "source": [
    "import numpy as np\n",
    "import matplotlib.pyplot as plt\n",
    "import pandas as pd"
   ]
  },
  {
   "cell_type": "code",
   "execution_count": 2,
   "id": "cad2898d",
   "metadata": {},
   "outputs": [],
   "source": [
    "df=pd.read_excel('RE_Data.xlsx')"
   ]
  },
  {
   "cell_type": "code",
   "execution_count": 3,
   "id": "411f814a",
   "metadata": {},
   "outputs": [],
   "source": [
    "df = df.drop(df.columns[df.columns.str.contains('unnamed', case=False)], axis=1)"
   ]
  },
  {
   "cell_type": "code",
   "execution_count": 4,
   "id": "5c231e4c",
   "metadata": {},
   "outputs": [],
   "source": [
    "# Shuffle the DataFrame\n",
    "df_shuff = df"
   ]
  },
  {
   "cell_type": "code",
   "execution_count": 5,
   "id": "c7860840",
   "metadata": {},
   "outputs": [],
   "source": [
    "from sklearn.model_selection import train_test_split"
   ]
  },
  {
   "cell_type": "code",
   "execution_count": 6,
   "id": "57b214f4",
   "metadata": {},
   "outputs": [],
   "source": [
    "var_columns = [c for c in df if c not in ['ph','ph_labels']]\n",
    "\n",
    "X = df.loc[:,var_columns].values\n",
    "y = df.loc[:,'ph'].values"
   ]
  },
  {
   "cell_type": "code",
   "execution_count": 7,
   "id": "8396a58a",
   "metadata": {},
   "outputs": [
    {
     "name": "stdout",
     "output_type": "stream",
     "text": [
      "GradientBoostingRegressor train R^2: 1.000\n",
      "GradientBoostingRegressor valid R^2: 0.998\n",
      "RMSE_train: 0.006\n",
      "RMSE_valid: 0.013\n",
      "GradientBoostingRegressor best params:\n",
      "{'n_estimators': 250, 'min_samples_split': 5, 'min_samples_leaf': 4, 'max_features': 'sqrt', 'max_depth': 10, 'learning_rate': 0.12648552168552957}\n",
      "\n"
     ]
    }
   ],
   "source": [
    "from sklearn.ensemble import GradientBoostingRegressor\n",
    "from sklearn.model_selection import RandomizedSearchCV, train_test_split\n",
    "from sklearn.metrics import mean_squared_error, r2_score\n",
    "import numpy as np\n",
    "\n",
    "# Split the data into training and validation sets\n",
    "X_train, X_valid, y_train, y_valid = train_test_split(X, y, test_size=0.3, random_state=42)\n",
    "\n",
    "# Define the Gradient Boosting Regressor model\n",
    "model = GradientBoostingRegressor()\n",
    "\n",
    "# Define the hyperparameter grid to search over\n",
    "param_dist = {\n",
    "    'n_estimators': np.arange(50, 501, 50),\n",
    "    'learning_rate': np.logspace(-4, 0, 50),\n",
    "    'max_depth': np.arange(2, 11),\n",
    "    'min_samples_split': np.arange(2, 11),\n",
    "    'min_samples_leaf': np.arange(1, 6),\n",
    "    'max_features': ['auto', 'sqrt', 'log2']\n",
    "}\n",
    "\n",
    "# Define the randomized search object\n",
    "search = RandomizedSearchCV(model, param_distributions=param_dist, n_iter=50, cv=5, random_state=42)\n",
    "\n",
    "# Fit the randomized search object to the training data\n",
    "search.fit(X_train, y_train)\n",
    "\n",
    "# Make predictions on training and validation sets\n",
    "y_pred_train = search.predict(X_train)\n",
    "y_pred_valid = search.predict(X_valid)\n",
    "\n",
    "# Calculate evaluation metrics\n",
    "mse_train = mean_squared_error(y_train, y_pred_train)\n",
    "mse_valid = mean_squared_error(y_valid, y_pred_valid)\n",
    "rmse_train = np.sqrt(mse_train)\n",
    "rmse_valid = np.sqrt(mse_valid)\n",
    "r2_train = r2_score(y_train, y_pred_train)\n",
    "r2_valid = r2_score(y_valid, y_pred_valid)\n",
    "\n",
    "# Print results\n",
    "print(\"GradientBoostingRegressor train R^2: {:.3f}\".format(r2_train))\n",
    "print(\"GradientBoostingRegressor valid R^2: {:.3f}\".format(r2_valid))\n",
    "print(\"RMSE_train: {:.3f}\".format(rmse_train))\n",
    "print(\"RMSE_valid: {:.3f}\".format(rmse_valid))\n",
    "print(\"GradientBoostingRegressor best params:\\n{}\\n\".format(search.best_params_))\n"
   ]
  },
  {
   "cell_type": "code",
   "execution_count": null,
   "id": "048f1390",
   "metadata": {},
   "outputs": [],
   "source": []
  },
  {
   "cell_type": "code",
   "execution_count": null,
   "id": "09f3ed9a",
   "metadata": {},
   "outputs": [],
   "source": []
  },
  {
   "cell_type": "code",
   "execution_count": null,
   "id": "1d6a0a56",
   "metadata": {},
   "outputs": [],
   "source": []
  }
 ],
 "metadata": {
  "kernelspec": {
   "display_name": "Python 3 (ipykernel)",
   "language": "python",
   "name": "python3"
  },
  "language_info": {
   "codemirror_mode": {
    "name": "ipython",
    "version": 3
   },
   "file_extension": ".py",
   "mimetype": "text/x-python",
   "name": "python",
   "nbconvert_exporter": "python",
   "pygments_lexer": "ipython3",
   "version": "3.9.7"
  }
 },
 "nbformat": 4,
 "nbformat_minor": 5
}

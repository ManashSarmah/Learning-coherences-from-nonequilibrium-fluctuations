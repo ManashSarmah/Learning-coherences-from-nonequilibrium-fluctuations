{
 "cells": [
  {
   "cell_type": "code",
   "execution_count": 1,
   "id": "8688034d",
   "metadata": {},
   "outputs": [],
   "source": [
    "import numpy as np\n",
    "import matplotlib.pyplot as plt\n",
    "import pandas as pd"
   ]
  },
  {
   "cell_type": "code",
   "execution_count": 2,
   "id": "cad2898d",
   "metadata": {},
   "outputs": [],
   "source": [
    "df=pd.read_excel('RE_Data.xlsx')"
   ]
  },
  {
   "cell_type": "code",
   "execution_count": 3,
   "id": "411f814a",
   "metadata": {},
   "outputs": [],
   "source": [
    "df = df.drop(df.columns[df.columns.str.contains('unnamed', case=False)], axis=1)"
   ]
  },
  {
   "cell_type": "code",
   "execution_count": 72,
   "id": "5c231e4c",
   "metadata": {},
   "outputs": [],
   "source": [
    "# Shuffle the DataFrame\n",
    "df_shuff = df[0:5_000]"
   ]
  },
  {
   "cell_type": "code",
   "execution_count": 73,
   "id": "c7860840",
   "metadata": {},
   "outputs": [],
   "source": [
    "from sklearn.model_selection import train_test_split"
   ]
  },
  {
   "cell_type": "code",
   "execution_count": 74,
   "id": "57b214f4",
   "metadata": {},
   "outputs": [],
   "source": [
    "var_columns = [c for c in df_shuff if c not in ['ph','ph_labels']]\n",
    "\n",
    "X = df_shuff.loc[:,var_columns].values\n",
    "y = df_shuff.loc[:,'ph_labels'].values"
   ]
  },
  {
   "cell_type": "code",
   "execution_count": 75,
   "id": "790d832c",
   "metadata": {},
   "outputs": [],
   "source": [
    "X_train, X_test, y_train, y_test = train_test_split(X, y, test_size=0.3, random_state=42,shuffle=True)"
   ]
  },
  {
   "cell_type": "code",
   "execution_count": 76,
   "id": "458baa6b",
   "metadata": {},
   "outputs": [
    {
     "name": "stdout",
     "output_type": "stream",
     "text": [
      "Mean accuracy_train: 0.599\n",
      "Mean accuracy_test: 0.598\n"
     ]
    }
   ],
   "source": [
    "from sklearn.model_selection import KFold, cross_val_score\n",
    "from sklearn.ensemble import AdaBoostClassifier\n",
    "# Create the model\n",
    "model = AdaBoostClassifier(n_estimators= 500, learning_rate= 1.0, algorithm= 'SAMME')\n",
    "\n",
    "# Use the KFold function to split the data into 5 folds\n",
    "kf = KFold(n_splits=5)\n",
    "\n",
    "# Use the cross_val_score function to calculate the accuracy scores for each fold\n",
    "accuracies_train = cross_val_score(model, X_train, y_train, cv=kf)\n",
    "# Use the cross_val_score function to calculate the accuracy scores for each fold\n",
    "accuracies_test = cross_val_score(model, X_test, y_test, cv=kf)\n",
    "# Calculate the mean accuracy score across all the folds\n",
    "mean_accuracy_train = accuracies_train.mean()\n",
    "mean_accuracy_test = accuracies_test.mean()\n",
    "print(f\"Mean accuracy_train: {mean_accuracy_train:.3f}\")\n",
    "print(f\"Mean accuracy_test: {mean_accuracy_test:.3f}\")\n"
   ]
  },
  {
   "cell_type": "code",
   "execution_count": 60,
   "id": "b950b8b8",
   "metadata": {},
   "outputs": [],
   "source": [
    "datasize_tr = np.array([700,6500,7000,10500,14000,17500,21000,24500,28000,31500,35000])\n",
    "datasize_vl = np.array([300,1500,3000,4500,6000,7500,9000,10500,12000,13500,15000])"
   ]
  },
  {
   "cell_type": "code",
   "execution_count": 61,
   "id": "2716362f",
   "metadata": {},
   "outputs": [],
   "source": [
    "acc_train = np.array([62.9,59.9,60.8,61.7,61.1,59.9,59.6,60.0,61.6,60.3,60.8])\n",
    "acc_test = np.array([62.0,59.8,60.5,59.8,60.6,62.0,61.8,61.7,61.2,62.7,61.0])"
   ]
  },
  {
   "cell_type": "code",
   "execution_count": 66,
   "id": "d9f411c2",
   "metadata": {
    "scrolled": true
   },
   "outputs": [
    {
     "data": {
      "text/plain": [
       "[<matplotlib.lines.Line2D at 0x7f69039f6610>]"
      ]
     },
     "execution_count": 66,
     "metadata": {},
     "output_type": "execute_result"
    },
    {
     "data": {
      "image/png": "[encoded data removed]",
      "text/plain": [
       "<Figure size 400x300 with 1 Axes>"
      ]
     },
     "metadata": {},
     "output_type": "display_data"
    }
   ],
   "source": [
    "plt.figure(figsize=(4,3))\n",
    "plt.plot(datasize_tr,acc_train)"
   ]
  },
  {
   "cell_type": "code",
   "execution_count": null,
   "id": "fe1c61a0",
   "metadata": {},
   "outputs": [],
   "source": []
  }
 ],
 "metadata": {
  "kernelspec": {
   "display_name": "Python 3 (ipykernel)",
   "language": "python",
   "name": "python3"
  },
  "language_info": {
   "codemirror_mode": {
    "name": "ipython",
    "version": 3
   },
   "file_extension": ".py",
   "mimetype": "text/x-python",
   "name": "python",
   "nbconvert_exporter": "python",
   "pygments_lexer": "ipython3",
   "version": "3.9.7"
  }
 },
 "nbformat": 4,
 "nbformat_minor": 5
}

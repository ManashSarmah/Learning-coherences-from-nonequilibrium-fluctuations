{
 "cells": [
  {
   "cell_type": "markdown",
   "id": "524433b1",
   "metadata": {},
   "source": [
    "For Gaussian Naive Bayes classifier, the hyperparameter to tune is the var_smoothing parameter, which controls the amount of smoothing applied to the data. We use the logspace function from NumPy to generate a range of values for var_smoothing. The rest of the code is similar to the previous examples, where we split the data into training and testing sets, define the model, set up a hyperparameter grid to search over using RandomizedSearchCV, fit the model to the training data, and evaluate the performance of the best model on the test data."
   ]
  },
  {
   "cell_type": "code",
   "execution_count": 1,
   "id": "8688034d",
   "metadata": {},
   "outputs": [],
   "source": [
    "import numpy as np\n",
    "import matplotlib.pyplot as plt\n",
    "import pandas as pd"
   ]
  },
  {
   "cell_type": "code",
   "execution_count": 2,
   "id": "cad2898d",
   "metadata": {},
   "outputs": [],
   "source": [
    "df=pd.read_excel('RE_Data.xlsx')"
   ]
  },
  {
   "cell_type": "code",
   "execution_count": 3,
   "id": "411f814a",
   "metadata": {},
   "outputs": [],
   "source": [
    "df = df.drop(df.columns[df.columns.str.contains('unnamed', case=False)], axis=1)"
   ]
  },
  {
   "cell_type": "code",
   "execution_count": 4,
   "id": "5c231e4c",
   "metadata": {},
   "outputs": [],
   "source": [
    "# Shuffle the DataFrame\n",
    "df_shuff = df"
   ]
  },
  {
   "cell_type": "code",
   "execution_count": 5,
   "id": "c7860840",
   "metadata": {},
   "outputs": [],
   "source": [
    "from sklearn.model_selection import train_test_split"
   ]
  },
  {
   "cell_type": "code",
   "execution_count": 6,
   "id": "57b214f4",
   "metadata": {},
   "outputs": [],
   "source": [
    "var_columns = [c for c in df if c not in ['ph','ph_labels']]\n",
    "\n",
    "X = df.loc[:,var_columns].values\n",
    "y = df.loc[:,'ph_labels'].values"
   ]
  },
  {
   "cell_type": "code",
   "execution_count": 7,
   "id": "8396a58a",
   "metadata": {
    "scrolled": false
   },
   "outputs": [
    {
     "name": "stdout",
     "output_type": "stream",
     "text": [
      "Gaussian Naive Bayes Classifier train accuracy: 0.4258571428571429\n",
      "Gaussian Naive Bayes Classifier test report:\n",
      "              precision    recall  f1-score   support\n",
      "\n",
      "           0       0.34      0.15      0.21      3818\n",
      "           1       0.37      0.79      0.50      3701\n",
      "           2       0.47      0.38      0.42      3719\n",
      "           3       0.60      0.36      0.45      3762\n",
      "\n",
      "    accuracy                           0.42     15000\n",
      "   macro avg       0.44      0.42      0.40     15000\n",
      "weighted avg       0.44      0.42      0.39     15000\n",
      "\n",
      "Accuracy test: 0.419\n",
      "\n",
      "Gaussian Naive Bayes Classifier best params:\n",
      "{'var_smoothing': 0.004977023564332114}\n",
      "\n"
     ]
    }
   ],
   "source": [
    "from sklearn.naive_bayes import GaussianNB\n",
    "from sklearn.model_selection import RandomizedSearchCV, train_test_split\n",
    "from sklearn.metrics import classification_report\n",
    "import numpy as np\n",
    "\n",
    "# Split the data into training and testing sets\n",
    "X_train, X_test, y_train, y_test = train_test_split(X, y, test_size=0.3, random_state=42)\n",
    "\n",
    "# Define the Gaussian Naive Bayes classifier model\n",
    "model = GaussianNB()\n",
    "\n",
    "# Define the hyperparameter grid to search over\n",
    "param_dist = {\n",
    "    'var_smoothing': np.logspace(-12, -2, 100)\n",
    "}\n",
    "\n",
    "# Define the randomized search object\n",
    "search = RandomizedSearchCV(model, param_distributions=param_dist, n_iter=50, cv=5, random_state=42)\n",
    "\n",
    "# Fit the randomized search object to the training data\n",
    "search.fit(X_train, y_train)\n",
    "\n",
    "y_pred = search.predict(X_test)\n",
    "accuracy_train = search.score(X_train, y_train)\n",
    "accuracy_test = search.score(X_test, y_test)\n",
    "\n",
    "report_test = classification_report(y_test, y_pred)\n",
    "\n",
    "print(\"Gaussian Naive Bayes Classifier train accuracy:\", accuracy_train)\n",
    "print(\"Gaussian Naive Bayes Classifier test report:\\n{}\\nAccuracy test: {:.3f}\\n\".format(report_test, accuracy_test))\n",
    "print(\"Gaussian Naive Bayes Classifier best params:\\n{}\\n\".format(search.best_params_))\n"
   ]
  },
  {
   "cell_type": "code",
   "execution_count": null,
   "id": "048f1390",
   "metadata": {},
   "outputs": [],
   "source": []
  }
 ],
 "metadata": {
  "kernelspec": {
   "display_name": "Python 3 (ipykernel)",
   "language": "python",
   "name": "python3"
  },
  "language_info": {
   "codemirror_mode": {
    "name": "ipython",
    "version": 3
   },
   "file_extension": ".py",
   "mimetype": "text/x-python",
   "name": "python",
   "nbconvert_exporter": "python",
   "pygments_lexer": "ipython3",
   "version": "3.9.7"
  }
 },
 "nbformat": 4,
 "nbformat_minor": 5
}

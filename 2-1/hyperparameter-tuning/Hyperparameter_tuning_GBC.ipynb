{
 "cells": [
  {
   "cell_type": "markdown",
   "id": "524433b1",
   "metadata": {},
   "source": [
    "In this code, we use the GradientBoostingClassifier model from sklearn.ensemble module. We then define the hyperparameter grid to search over using param_dist dictionary. Here, we tune the learning rate, the number of trees (n_estimators), maximum depth of the trees (max_depth), minimum number of samples required to split an internal node (min_samples_split), and minimum number of samples required to be at a leaf node (min_samples_leaf).\n",
    "\n",
    "We then define the randomized search object with search = RandomizedSearchCV(model, param_distributions=param_dist, n_iter=50, cv=5, random_state=42) and fit it to the training data using search.fit(X_train, y_train). We make predictions on the testing data using search.predict(X_test).\n",
    "\n",
    "Finally, we evaluate the performance of the model using the score() method to calculate the accuracy on the training and testing data. We also generate a classification report for the testing data using classification_report() function."
   ]
  },
  {
   "cell_type": "code",
   "execution_count": 1,
   "id": "8688034d",
   "metadata": {},
   "outputs": [],
   "source": [
    "import numpy as np\n",
    "import matplotlib.pyplot as plt\n",
    "import pandas as pd"
   ]
  },
  {
   "cell_type": "code",
   "execution_count": 2,
   "id": "cad2898d",
   "metadata": {},
   "outputs": [],
   "source": [
    "df=pd.read_excel('RE_Data.xlsx')"
   ]
  },
  {
   "cell_type": "code",
   "execution_count": 3,
   "id": "411f814a",
   "metadata": {},
   "outputs": [],
   "source": [
    "df = df.drop(df.columns[df.columns.str.contains('unnamed', case=False)], axis=1)"
   ]
  },
  {
   "cell_type": "code",
   "execution_count": 4,
   "id": "5c231e4c",
   "metadata": {},
   "outputs": [],
   "source": [
    "# Shuffle the DataFrame\n",
    "df_shuff = df"
   ]
  },
  {
   "cell_type": "code",
   "execution_count": 5,
   "id": "c7860840",
   "metadata": {},
   "outputs": [],
   "source": [
    "from sklearn.model_selection import train_test_split"
   ]
  },
  {
   "cell_type": "code",
   "execution_count": 6,
   "id": "57b214f4",
   "metadata": {},
   "outputs": [],
   "source": [
    "var_columns = [c for c in df if c not in ['ph','ph_labels']]\n",
    "\n",
    "X = df.loc[:,var_columns].values\n",
    "y = df.loc[:,'ph_labels'].values"
   ]
  },
  {
   "cell_type": "code",
   "execution_count": 7,
   "id": "8396a58a",
   "metadata": {},
   "outputs": [
    {
     "name": "stdout",
     "output_type": "stream",
     "text": [
      "Gradient Boosting Classifier Train Accuracy: 1.000\n",
      "Gradient Boosting Classifier Test Accuracy: 0.966\n",
      "Gradient Boosting Classifier Best Params:\n",
      "{'n_estimators': 50, 'min_samples_split': 13, 'min_samples_leaf': 4, 'max_depth': 9, 'learning_rate': 0.2682695795279725}\n",
      "\n",
      "Gradient Boosting Classifier Report:\n",
      "              precision    recall  f1-score   support\n",
      "\n",
      "           0       0.97      0.97      0.97      3818\n",
      "           1       0.95      0.96      0.95      3701\n",
      "           2       0.97      0.95      0.96      3719\n",
      "           3       0.97      0.98      0.98      3762\n",
      "\n",
      "    accuracy                           0.97     15000\n",
      "   macro avg       0.97      0.97      0.97     15000\n",
      "weighted avg       0.97      0.97      0.97     15000\n",
      "\n",
      "\n"
     ]
    }
   ],
   "source": [
    "from sklearn.ensemble import GradientBoostingClassifier\n",
    "from sklearn.model_selection import RandomizedSearchCV, train_test_split\n",
    "from sklearn.metrics import classification_report\n",
    "import numpy as np\n",
    "\n",
    "# Split the data into training and testing sets\n",
    "X_train, X_test, y_train, y_test = train_test_split(X, y, test_size=0.3, random_state=42)\n",
    "\n",
    "# Define the Gradient Boosting classifier model\n",
    "model = GradientBoostingClassifier()\n",
    "\n",
    "# Define the hyperparameter grid to search over\n",
    "param_dist = {\n",
    "    'learning_rate': np.logspace(-4, 0, 50),\n",
    "    'n_estimators': np.arange(50, 501, 50),\n",
    "    'max_depth': np.arange(2, 11),\n",
    "    'min_samples_split': np.arange(2, 21),\n",
    "    'min_samples_leaf': np.arange(1, 11)\n",
    "}\n",
    "\n",
    "# Define the randomized search object\n",
    "search = RandomizedSearchCV(model, param_distributions=param_dist, n_iter=50, cv=5, random_state=42)\n",
    "\n",
    "# Fit the randomized search object to the training data\n",
    "search.fit(X_train, y_train)\n",
    "\n",
    "# Make predictions on the testing data\n",
    "y_pred = search.predict(X_test)\n",
    "\n",
    "# Evaluate the model's performance\n",
    "accuracy_train = search.score(X_train, y_train)\n",
    "accuracy_test = search.score(X_test, y_test)\n",
    "report_test = classification_report(y_test, y_pred)\n",
    "\n",
    "print(\"Gradient Boosting Classifier Train Accuracy: {:.3f}\".format(accuracy_train))\n",
    "print(\"Gradient Boosting Classifier Test Accuracy: {:.3f}\".format(accuracy_test))\n",
    "print(\"Gradient Boosting Classifier Best Params:\\n{}\\n\".format(search.best_params_))\n",
    "print(\"Gradient Boosting Classifier Report:\\n{}\\n\".format(report_test))\n"
   ]
  },
  {
   "cell_type": "code",
   "execution_count": null,
   "id": "048f1390",
   "metadata": {},
   "outputs": [],
   "source": []
  }
 ],
 "metadata": {
  "kernelspec": {
   "display_name": "Python 3 (ipykernel)",
   "language": "python",
   "name": "python3"
  },
  "language_info": {
   "codemirror_mode": {
    "name": "ipython",
    "version": 3
   },
   "file_extension": ".py",
   "mimetype": "text/x-python",
   "name": "python",
   "nbconvert_exporter": "python",
   "pygments_lexer": "ipython3",
   "version": "3.9.7"
  }
 },
 "nbformat": 4,
 "nbformat_minor": 5
}

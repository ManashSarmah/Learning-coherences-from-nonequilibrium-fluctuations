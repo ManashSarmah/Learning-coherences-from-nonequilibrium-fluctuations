{
 "cells": [
  {
   "cell_type": "markdown",
   "id": "524433b1",
   "metadata": {},
   "source": [
    "In this code, we first load the dataset and split it into training and testing sets. We then define an AdaBoostClassifier model and a hyperparameter grid to search over using numpy arrays. The RandomizedSearchCV object is then defined, with the number of iterations, number of cross-validation folds, and random seed specified. We fit the randomized search object to the training data, and print out the best hyperparameters and corresponding mean cross-validated score.\n",
    "\n",
    "The logic for choosing the hyperparameters is as follows:\n",
    "\n",
    "    n_estimators: This hyperparameter determines the number of decision trees to include in the AdaBoost ensemble. We search over a range of values from 50 to 500 with a step of 50. This range was chosen based on common values used in the literature.\n",
    "    learning_rate: This hyperparameter determines the contribution of each tree in the ensemble. We search over a range of values from 0.0001 to 1 on a logarithmic scale. This range was chosen based on common values used in the literature.\n",
    "    algorithm: This hyperparameter determines the boosting algorithm to use. We search over two values: SAMME and SAMME.R. The SAMME.R algorithm is the default and is recommended in most cases, but we include SAMME as well for completeness.\n",
    "\n",
    "By searching over a range of values for each hyperparameter and using cross-validation to evaluate the performance of the model with each combination of hyperparameters, we can find the optimal hyperparameters for the AdaBoost model."
   ]
  },
  {
   "cell_type": "code",
   "execution_count": 1,
   "id": "8688034d",
   "metadata": {},
   "outputs": [],
   "source": [
    "import numpy as np\n",
    "import matplotlib.pyplot as plt\n",
    "import pandas as pd"
   ]
  },
  {
   "cell_type": "code",
   "execution_count": 2,
   "id": "cad2898d",
   "metadata": {},
   "outputs": [],
   "source": [
    "df=pd.read_excel('RE_Data.xlsx')"
   ]
  },
  {
   "cell_type": "code",
   "execution_count": 3,
   "id": "411f814a",
   "metadata": {},
   "outputs": [],
   "source": [
    "df = df.drop(df.columns[df.columns.str.contains('unnamed', case=False)], axis=1)"
   ]
  },
  {
   "cell_type": "code",
   "execution_count": 4,
   "id": "5c231e4c",
   "metadata": {},
   "outputs": [],
   "source": [
    "# Shuffle the DataFrame\n",
    "df_shuff = df"
   ]
  },
  {
   "cell_type": "code",
   "execution_count": 5,
   "id": "c7860840",
   "metadata": {},
   "outputs": [],
   "source": [
    "from sklearn.model_selection import train_test_split"
   ]
  },
  {
   "cell_type": "code",
   "execution_count": 6,
   "id": "57b214f4",
   "metadata": {},
   "outputs": [],
   "source": [
    "var_columns = [c for c in df if c not in ['ph','ph_labels']]\n",
    "\n",
    "X = df.loc[:,var_columns].values\n",
    "y = df.loc[:,'ph_labels'].values"
   ]
  },
  {
   "cell_type": "code",
   "execution_count": 7,
   "id": "2e8c8e72",
   "metadata": {
    "scrolled": true
   },
   "outputs": [
    {
     "name": "stdout",
     "output_type": "stream",
     "text": [
      "AdaBoostClassifier_train  0.6158857142857143\n",
      "AdaBoostClassifier report:\n",
      "              precision    recall  f1-score   support\n",
      "\n",
      "           0       0.70      0.19      0.30      3818\n",
      "           1       0.49      0.81      0.61      3701\n",
      "           2       0.63      0.85      0.72      3719\n",
      "           3       0.81      0.60      0.69      3762\n",
      "\n",
      "    accuracy                           0.61     15000\n",
      "   macro avg       0.66      0.61      0.58     15000\n",
      "weighted avg       0.66      0.61      0.58     15000\n",
      "\n",
      "Accuracy_test: 0.610\n",
      "\n",
      "AdaBoostClassifier best params:\n",
      "{'n_estimators': 500, 'learning_rate': 1.0, 'algorithm': 'SAMME'}\n",
      "\n"
     ]
    }
   ],
   "source": [
    "from sklearn.ensemble import AdaBoostClassifier\n",
    "from sklearn.model_selection import RandomizedSearchCV, train_test_split\n",
    "from sklearn.metrics import classification_report\n",
    "\n",
    "\n",
    "# Split the data into training and testing sets\n",
    "X_train, X_test, y_train, y_test = train_test_split(X, y, test_size=0.3, random_state=42)\n",
    "\n",
    "# Define the AdaBoost classifier model\n",
    "model = AdaBoostClassifier()\n",
    "\n",
    "# Define the hyperparameter grid to search over\n",
    "param_dist = {\n",
    "    'n_estimators': np.arange(50, 501, 50),\n",
    "    'learning_rate': np.logspace(-4, 0, 50),\n",
    "    'algorithm': ['SAMME', 'SAMME.R']\n",
    "}\n",
    "\n",
    "# Define the randomized search object\n",
    "search = RandomizedSearchCV(model, param_distributions=param_dist, n_iter=50, cv=5, random_state=42)\n",
    "\n",
    "# Fit the randomized search object to the training data\n",
    "search.fit(X_train, y_train)\n",
    "\n",
    "\n",
    "y_pred = search.predict(X_test)\n",
    "accuracy_train = search.score(X_train, y_train)\n",
    "accuracy_test = search.score(X_test, y_test)\n",
    "\n",
    "report_test = classification_report(y_test, y_pred)\n",
    "\n",
    "print(\"AdaBoostClassifier_train \",accuracy_train)\n",
    "print(\"AdaBoostClassifier report:\\n{}\\nAccuracy_test: {:.3f}\\n\".format(report_test, accuracy_test))\n",
    "print(\"AdaBoostClassifier best params:\\n{}\\n\".format(search.best_params_))\n",
    "\n",
    "\n"
   ]
  },
  {
   "cell_type": "code",
   "execution_count": 16,
   "id": "24fe4a36",
   "metadata": {},
   "outputs": [],
   "source": []
  },
  {
   "cell_type": "code",
   "execution_count": null,
   "id": "048f1390",
   "metadata": {},
   "outputs": [],
   "source": []
  }
 ],
 "metadata": {
  "kernelspec": {
   "display_name": "Python 3 (ipykernel)",
   "language": "python",
   "name": "python3"
  },
  "language_info": {
   "codemirror_mode": {
    "name": "ipython",
    "version": 3
   },
   "file_extension": ".py",
   "mimetype": "text/x-python",
   "name": "python",
   "nbconvert_exporter": "python",
   "pygments_lexer": "ipython3",
   "version": "3.9.7"
  }
 },
 "nbformat": 4,
 "nbformat_minor": 5
}

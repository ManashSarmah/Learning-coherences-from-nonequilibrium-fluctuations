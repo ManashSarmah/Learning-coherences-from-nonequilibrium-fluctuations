{
 "cells": [
  {
   "cell_type": "markdown",
   "id": "524433b1",
   "metadata": {},
   "source": [
    "Here, we are using KNeighborsClassifier as the base model for RandomizedSearchCV. We have defined a hyperparameter grid to search over that includes the number of neighbors (n_neighbors), weight function (weights), and distance metric (metric).\n",
    "\n",
    "The range of values for n_neighbors is chosen as odd numbers from 1 to 51, as KNN performs better with an odd number of neighbors to avoid ties. The weight function is chosen as uniform and distance, and the metric is chosen as euclidean, manhattan, and minkowski.\n",
    "\n",
    "We have set the number of iterations (n_iter) to 50 and the number of cross-validation folds (cv) to 5, which determines how many times the data will be split into training and validation sets during the search.\n",
    "\n",
    "Finally, we fit the RandomizedSearchCV object to the training data, predict on the test set, and report the train and test accuracy, classification report, and best hyperparameters found during the search.\n",
    "\n",
    "Note that the hyperparameters and their ranges were chosen based on empirical evidence and prior knowledge about the KNN classifier. The choice of hyperparameters and their ranges may vary depending on the specific problem and dataset."
   ]
  },
  {
   "cell_type": "code",
   "execution_count": 2,
   "id": "8688034d",
   "metadata": {},
   "outputs": [],
   "source": [
    "import numpy as np\n",
    "import matplotlib.pyplot as plt\n",
    "import pandas as pd"
   ]
  },
  {
   "cell_type": "code",
   "execution_count": 3,
   "id": "cad2898d",
   "metadata": {},
   "outputs": [],
   "source": [
    "df=pd.read_excel('RE_Data.xlsx')"
   ]
  },
  {
   "cell_type": "code",
   "execution_count": 4,
   "id": "411f814a",
   "metadata": {},
   "outputs": [],
   "source": [
    "df = df.drop(df.columns[df.columns.str.contains('unnamed', case=False)], axis=1)"
   ]
  },
  {
   "cell_type": "code",
   "execution_count": 5,
   "id": "5c231e4c",
   "metadata": {},
   "outputs": [],
   "source": [
    "# Shuffle the DataFrame\n",
    "df_shuff = df"
   ]
  },
  {
   "cell_type": "code",
   "execution_count": 6,
   "id": "c7860840",
   "metadata": {},
   "outputs": [],
   "source": [
    "from sklearn.model_selection import train_test_split"
   ]
  },
  {
   "cell_type": "code",
   "execution_count": 7,
   "id": "57b214f4",
   "metadata": {},
   "outputs": [],
   "source": [
    "var_columns = [c for c in df if c not in ['ph','ph_labels','c4','c3']]\n",
    "\n",
    "X = df.loc[:,var_columns].values\n",
    "y = df.loc[:,'ph_labels'].values"
   ]
  },
  {
   "cell_type": "code",
   "execution_count": 8,
   "id": "17705367",
   "metadata": {},
   "outputs": [
    {
     "data": {
      "text/plain": [
       "array([[1.01453973, 1.03422478],\n",
       "       [0.99648304, 1.00676816],\n",
       "       [0.97689244, 0.99996001],\n",
       "       ...,\n",
       "       [0.94227888, 0.97475218],\n",
       "       [1.00002718, 1.0221754 ],\n",
       "       [0.98602115, 0.99246708]])"
      ]
     },
     "execution_count": 8,
     "metadata": {},
     "output_type": "execute_result"
    }
   ],
   "source": [
    "X"
   ]
  },
  {
   "cell_type": "code",
   "execution_count": 9,
   "id": "006624a0",
   "metadata": {
    "scrolled": true
   },
   "outputs": [
    {
     "name": "stdout",
     "output_type": "stream",
     "text": [
      "KNN Classifier train accuracy: 0.951\n",
      "KNN Classifier test accuracy: 0.931\n",
      "KNN Classifier test report:\n",
      "              precision    recall  f1-score   support\n",
      "\n",
      "           0       0.97      0.99      0.98      3818\n",
      "           1       0.90      0.95      0.92      3701\n",
      "           2       0.93      0.83      0.88      3719\n",
      "           3       0.93      0.96      0.94      3762\n",
      "\n",
      "    accuracy                           0.93     15000\n",
      "   macro avg       0.93      0.93      0.93     15000\n",
      "weighted avg       0.93      0.93      0.93     15000\n",
      "\n",
      "\n",
      "KNN Classifier best params:\n",
      "{'weights': 'uniform', 'n_neighbors': 5, 'metric': 'minkowski'}\n",
      "\n"
     ]
    }
   ],
   "source": [
    "from sklearn.neighbors import KNeighborsClassifier\n",
    "from sklearn.model_selection import RandomizedSearchCV, train_test_split\n",
    "from sklearn.metrics import classification_report\n",
    "import numpy as np\n",
    "\n",
    "# Split the data into training and testing sets\n",
    "X_train, X_test, y_train, y_test = train_test_split(X, y, test_size=0.3, random_state=42)\n",
    "\n",
    "# Define the KNN classifier model\n",
    "model = KNeighborsClassifier()\n",
    "\n",
    "# Define the hyperparameter grid to search over\n",
    "param_dist = {\n",
    "    'n_neighbors': np.arange(1, 51, 2),\n",
    "    'weights': ['uniform', 'distance'],\n",
    "    'metric': ['euclidean', 'manhattan', 'minkowski']\n",
    "}\n",
    "\n",
    "# Define the randomized search object\n",
    "search = RandomizedSearchCV(model, param_distributions=param_dist, n_iter=50, cv=5, random_state=42)\n",
    "\n",
    "# Fit the randomized search object to the training data\n",
    "search.fit(X_train, y_train)\n",
    "\n",
    "y_pred = search.predict(X_test)\n",
    "accuracy_train = search.score(X_train, y_train)\n",
    "accuracy_test = search.score(X_test, y_test)\n",
    "\n",
    "report_test = classification_report(y_test, y_pred)\n",
    "\n",
    "print(\"KNN Classifier train accuracy: {:.3f}\".format(accuracy_train))\n",
    "print(\"KNN Classifier test accuracy: {:.3f}\".format(accuracy_test))\n",
    "print(\"KNN Classifier test report:\\n{}\\n\".format(report_test))\n",
    "print(\"KNN Classifier best params:\\n{}\\n\".format(search.best_params_))\n"
   ]
  },
  {
   "cell_type": "code",
   "execution_count": 10,
   "id": "2e8c8e72",
   "metadata": {
    "scrolled": true
   },
   "outputs": [],
   "source": [
    "# from sklearn.ensemble import AdaBoostClassifier\n",
    "# from sklearn.model_selection import RandomizedSearchCV, train_test_split\n",
    "# from sklearn.metrics import classification_report\n",
    "\n",
    "\n",
    "# # Split the data into training and testing sets\n",
    "# X_train, X_test, y_train, y_test = train_test_split(X, y, test_size=0.3, random_state=42)\n",
    "\n",
    "# # Define the AdaBoost classifier model\n",
    "# model = AdaBoostClassifier()\n",
    "\n",
    "# # Define the hyperparameter grid to search over\n",
    "# param_dist = {\n",
    "#     'n_estimators': np.arange(50, 501, 50),\n",
    "#     'learning_rate': np.logspace(-4, 0, 50),\n",
    "#     'algorithm': ['SAMME', 'SAMME.R']\n",
    "# }\n",
    "\n",
    "# # Define the randomized search object\n",
    "# search = RandomizedSearchCV(model, param_distributions=param_dist, n_iter=50, cv=5, random_state=42)\n",
    "\n",
    "# # Fit the randomized search object to the training data\n",
    "# search.fit(X_train, y_train)\n",
    "\n",
    "\n",
    "# y_pred = search.predict(X_test)\n",
    "# accuracy_train = search.score(X_train, y_train)\n",
    "# accuracy_test = search.score(X_test, y_test)\n",
    "\n",
    "# report_test = classification_report(y_test, y_pred)\n",
    "\n",
    "# print(\"AdaBoostClassifier_train \",accuracy_train)\n",
    "# print(\"AdaBoostClassifier report:\\n{}\\nAccuracy_test: {:.3f}\\n\".format(report_test, accuracy_test))\n",
    "# print(\"AdaBoostClassifier best params:\\n{}\\n\".format(search.best_params_))\n",
    "\n",
    "\n"
   ]
  },
  {
   "cell_type": "code",
   "execution_count": 16,
   "id": "24fe4a36",
   "metadata": {},
   "outputs": [],
   "source": []
  },
  {
   "cell_type": "code",
   "execution_count": null,
   "id": "048f1390",
   "metadata": {},
   "outputs": [],
   "source": []
  }
 ],
 "metadata": {
  "kernelspec": {
   "display_name": "Python 3 (ipykernel)",
   "language": "python",
   "name": "python3"
  },
  "language_info": {
   "codemirror_mode": {
    "name": "ipython",
    "version": 3
   },
   "file_extension": ".py",
   "mimetype": "text/x-python",
   "name": "python",
   "nbconvert_exporter": "python",
   "pygments_lexer": "ipython3",
   "version": "3.9.7"
  }
 },
 "nbformat": 4,
 "nbformat_minor": 5
}

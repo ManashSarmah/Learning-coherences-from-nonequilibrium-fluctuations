{
 "cells": [
  {
   "cell_type": "markdown",
   "id": "524433b1",
   "metadata": {},
   "source": [
    "Here, we are using Support Vector Classifier as the base model for RandomizedSearchCV. We have defined a hyperparameter grid to search over that includes the regularization parameter (C), the kernel used for transforming the data (kernel), the degree of the polynomial kernel (degree), and the kernel coefficient (gamma).\n",
    "\n",
    "The range of values for each hyperparameter are chosen based on prior knowledge about the classifier and the problem at hand. For example, we have set the range of values for C from 0.001 to 1000, as we know that smaller values of C will lead to a wider margin and potentially more regularization.\n",
    "\n",
    "We have set the number of iterations (n_iter) to 50 and the number of cross-validation folds (cv) to 5, which determines how many times the data will be split into training and validation sets during the search.\n",
    "\n",
    "Finally, we fit the RandomizedSearchCV object to the training data, predict on the test set, and report the train and test accuracy, classification report, and best hyperparameters found during the search.\n",
    "\n",
    "Note that the hyperparameters and their ranges were chosen based on empirical evidence and prior knowledge about the Support Vector Classifier. The choice of hyperparameters and their ranges may vary depending on the specific problem and dataset."
   ]
  },
  {
   "cell_type": "code",
   "execution_count": 1,
   "id": "8688034d",
   "metadata": {},
   "outputs": [],
   "source": [
    "import numpy as np\n",
    "import matplotlib.pyplot as plt\n",
    "import pandas as pd"
   ]
  },
  {
   "cell_type": "code",
   "execution_count": 2,
   "id": "cad2898d",
   "metadata": {},
   "outputs": [],
   "source": [
    "df=pd.read_excel('RE_Data.xlsx')"
   ]
  },
  {
   "cell_type": "code",
   "execution_count": 3,
   "id": "411f814a",
   "metadata": {},
   "outputs": [],
   "source": [
    "df = df.drop(df.columns[df.columns.str.contains('unnamed', case=False)], axis=1)"
   ]
  },
  {
   "cell_type": "code",
   "execution_count": 4,
   "id": "5c231e4c",
   "metadata": {},
   "outputs": [],
   "source": [
    "# Shuffle the DataFrame\n",
    "df_shuff = df"
   ]
  },
  {
   "cell_type": "code",
   "execution_count": 5,
   "id": "c7860840",
   "metadata": {},
   "outputs": [],
   "source": [
    "from sklearn.model_selection import train_test_split"
   ]
  },
  {
   "cell_type": "code",
   "execution_count": 6,
   "id": "57b214f4",
   "metadata": {},
   "outputs": [],
   "source": [
    "var_columns = [c for c in df if c not in ['ph','ph_labels']]\n",
    "\n",
    "X = df.loc[:,var_columns].values\n",
    "y = df.loc[:,'ph_labels'].values"
   ]
  },
  {
   "cell_type": "code",
   "execution_count": 7,
   "id": "8396a58a",
   "metadata": {},
   "outputs": [
    {
     "name": "stdout",
     "output_type": "stream",
     "text": [
      "Random Forest train accuracy: 1.000\n",
      "Random Forest test accuracy: 0.980\n",
      "Random Forest test report:\n",
      "              precision    recall  f1-score   support\n",
      "\n",
      "           0       0.98      0.98      0.98      3818\n",
      "           1       0.98      0.98      0.98      3701\n",
      "           2       0.99      0.97      0.98      3719\n",
      "           3       0.98      0.99      0.98      3762\n",
      "\n",
      "    accuracy                           0.98     15000\n",
      "   macro avg       0.98      0.98      0.98     15000\n",
      "weighted avg       0.98      0.98      0.98     15000\n",
      "\n",
      "\n",
      "Random Forest best params:\n",
      "{'n_estimators': 500, 'min_samples_split': 2, 'min_samples_leaf': 1, 'max_features': 'sqrt', 'max_depth': 30}\n",
      "\n"
     ]
    }
   ],
   "source": [
    "from sklearn.ensemble import RandomForestClassifier\n",
    "from sklearn.model_selection import RandomizedSearchCV, train_test_split\n",
    "from sklearn.metrics import classification_report\n",
    "import numpy as np\n",
    "\n",
    "# Split the data into training and testing sets\n",
    "X_train, X_test, y_train, y_test = train_test_split(X, y, test_size=0.3, random_state=42)\n",
    "\n",
    "# Define the Random Forest Classifier model\n",
    "model = RandomForestClassifier()\n",
    "\n",
    "# Define the hyperparameter grid to search over\n",
    "param_dist = {\n",
    "    'n_estimators': np.arange(50, 501, 50),\n",
    "    'max_depth': np.arange(5, 51, 5),\n",
    "    'max_features': ['sqrt', 'log2'],\n",
    "    'min_samples_split': [2, 5, 10],\n",
    "    'min_samples_leaf': [1, 2, 4]\n",
    "}\n",
    "\n",
    "# Define the randomized search object\n",
    "search = RandomizedSearchCV(model, param_distributions=param_dist, n_iter=50, cv=5, random_state=42)\n",
    "\n",
    "# Fit the randomized search object to the training data\n",
    "search.fit(X_train, y_train)\n",
    "\n",
    "y_pred = search.predict(X_test)\n",
    "accuracy_train = search.score(X_train, y_train)\n",
    "accuracy_test = search.score(X_test, y_test)\n",
    "\n",
    "report_test = classification_report(y_test, y_pred)\n",
    "\n",
    "print(\"Random Forest train accuracy: {:.3f}\".format(accuracy_train))\n",
    "print(\"Random Forest test accuracy: {:.3f}\".format(accuracy_test))\n",
    "print(\"Random Forest test report:\\n{}\\n\".format(report_test))\n",
    "print(\"Random Forest best params:\\n{}\\n\".format(search.best_params_))\n"
   ]
  },
  {
   "cell_type": "code",
   "execution_count": null,
   "id": "048f1390",
   "metadata": {},
   "outputs": [],
   "source": []
  }
 ],
 "metadata": {
  "kernelspec": {
   "display_name": "Python 3 (ipykernel)",
   "language": "python",
   "name": "python3"
  },
  "language_info": {
   "codemirror_mode": {
    "name": "ipython",
    "version": 3
   },
   "file_extension": ".py",
   "mimetype": "text/x-python",
   "name": "python",
   "nbconvert_exporter": "python",
   "pygments_lexer": "ipython3",
   "version": "3.9.7"
  }
 },
 "nbformat": 4,
 "nbformat_minor": 5
}

{
 "cells": [
  {
   "cell_type": "code",
   "execution_count": 1,
   "id": "4ed6d8ec",
   "metadata": {},
   "outputs": [],
   "source": [
    "import numpy as np\n",
    "import matplotlib.pyplot as plt"
   ]
  },
  {
   "cell_type": "code",
   "execution_count": 2,
   "id": "d4e4797d",
   "metadata": {},
   "outputs": [],
   "source": [
    "# [[3719   99    0    0]\n",
    "#  [ 189 3276  236    0]\n",
    "#  [   0  392 3019  308]\n",
    "#  [   0    0  198 3564]]"
   ]
  },
  {
   "cell_type": "code",
   "execution_count": 4,
   "id": "8e39a765",
   "metadata": {
    "scrolled": false
   },
   "outputs": [
    {
     "name": "stdout",
     "output_type": "stream",
     "text": [
      "Number of elements in class class1: 3818\n",
      "Metrics for class1:\n",
      "Precision: 0.952\n",
      "Accuracy: 0.981\n",
      "Recall: 0.974\n",
      "F1-score: 0.963\n",
      "MCC: 0.950\n",
      "\n",
      "Number of elements in class class2: 3701\n",
      "Metrics for class2:\n",
      "Precision: 0.870\n",
      "Accuracy: 0.939\n",
      "Recall: 0.885\n",
      "F1-score: 0.877\n",
      "MCC: 0.837\n",
      "\n",
      "Number of elements in class class3: 3719\n",
      "Metrics for class3:\n",
      "Precision: 0.874\n",
      "Accuracy: 0.924\n",
      "Recall: 0.812\n",
      "F1-score: 0.842\n",
      "MCC: 0.793\n",
      "\n",
      "Number of elements in class class4: 3762\n",
      "Metrics for class4:\n",
      "Precision: 0.920\n",
      "Accuracy: 0.966\n",
      "Recall: 0.947\n",
      "F1-score: 0.934\n",
      "MCC: 0.911\n",
      "\n"
     ]
    }
   ],
   "source": [
    "confusion_matrix = [[3719 ,  99  ,  0   , 0],\n",
    " [ 189, 3276,  236  ,  0],\n",
    " [   0,  392, 3019,  308],\n",
    " [   0  ,  0 , 198 ,3564]]\n",
    "classes = [\"class1\", \"class2\", \"class3\", \"class4\"]\n",
    "\n",
    "for i in range(len(confusion_matrix)):\n",
    "    class_count = sum(confusion_matrix[i])\n",
    "    print(\"Number of elements in class {}: {}\".format(classes[i], class_count))\n",
    "    TP = confusion_matrix[i][i]\n",
    "    FP = sum(confusion_matrix[j][i] for j in range(len(confusion_matrix)) if j != i)\n",
    "    FN = sum(confusion_matrix[i][j] for j in range(len(confusion_matrix)) if j != i)\n",
    "    TN = sum(confusion_matrix[j][k] for j in range(len(confusion_matrix)) for k in range(len(confusion_matrix)) if j!=i and k!=i)\n",
    "    precision = TP/(TP+FP)\n",
    "    accuracy = (TP+TN)/(TP+TN+FP+FN)\n",
    "    recall = TP/(TP+FN)\n",
    "    f1_score = 2 * (precision * recall) / (precision + recall)\n",
    "    MCC = (TP*TN - FP*FN) / ((TP+FP)*(TP+FN)*(TN+FP)*(TN+FN))**(1/2)\n",
    "    print(\"Metrics for {}:\".format(classes[i]))\n",
    "    print(\"Precision: {:.3f}\".format(precision))\n",
    "    print(\"Accuracy: {:.3f}\".format(accuracy))\n",
    "    print(\"Recall: {:.3f}\".format(recall))\n",
    "    print(\"F1-score: {:.3f}\".format(f1_score))\n",
    "    print(\"MCC: {:.3f}\\n\".format(MCC))\n"
   ]
  },
  {
   "cell_type": "code",
   "execution_count": null,
   "id": "01ca93ce",
   "metadata": {},
   "outputs": [],
   "source": []
  },
  {
   "cell_type": "code",
   "execution_count": null,
   "id": "6eec7fe3",
   "metadata": {},
   "outputs": [],
   "source": []
  }
 ],
 "metadata": {
  "kernelspec": {
   "display_name": "Python 3 (ipykernel)",
   "language": "python",
   "name": "python3"
  },
  "language_info": {
   "codemirror_mode": {
    "name": "ipython",
    "version": 3
   },
   "file_extension": ".py",
   "mimetype": "text/x-python",
   "name": "python",
   "nbconvert_exporter": "python",
   "pygments_lexer": "ipython3",
   "version": "3.9.7"
  }
 },
 "nbformat": 4,
 "nbformat_minor": 5
}

{
 "cells": [
  {
   "cell_type": "code",
   "execution_count": 1,
   "id": "8688034d",
   "metadata": {},
   "outputs": [],
   "source": [
    "import numpy as np\n",
    "import matplotlib.pyplot as plt\n",
    "import pandas as pd"
   ]
  },
  {
   "cell_type": "code",
   "execution_count": 2,
   "id": "cad2898d",
   "metadata": {},
   "outputs": [],
   "source": [
    "df=pd.read_excel('RE_Data.xlsx')"
   ]
  },
  {
   "cell_type": "code",
   "execution_count": 3,
   "id": "411f814a",
   "metadata": {},
   "outputs": [],
   "source": [
    "df = df.drop(df.columns[df.columns.str.contains('unnamed', case=False)], axis=1)"
   ]
  },
  {
   "cell_type": "code",
   "execution_count": 4,
   "id": "5c231e4c",
   "metadata": {},
   "outputs": [],
   "source": [
    "# Shuffle the DataFrame\n",
    "df_shuff = df[0:50_000]"
   ]
  },
  {
   "cell_type": "code",
   "execution_count": 5,
   "id": "c7860840",
   "metadata": {},
   "outputs": [],
   "source": [
    "from sklearn.model_selection import train_test_split"
   ]
  },
  {
   "cell_type": "code",
   "execution_count": 6,
   "id": "57b214f4",
   "metadata": {},
   "outputs": [],
   "source": [
    "var_columns = [c for c in df_shuff if c not in ['ph','ph_labels','c4','c3']]\n",
    "\n",
    "X = df_shuff.loc[:,var_columns].values\n",
    "y = df_shuff.loc[:,'ph'].values"
   ]
  },
  {
   "cell_type": "code",
   "execution_count": 7,
   "id": "30afb3cf",
   "metadata": {},
   "outputs": [
    {
     "data": {
      "text/plain": [
       "array([[1.01453973, 1.03422478],\n",
       "       [0.99648304, 1.00676816],\n",
       "       [0.97689244, 0.99996001],\n",
       "       ...,\n",
       "       [0.94227888, 0.97475218],\n",
       "       [1.00002718, 1.0221754 ],\n",
       "       [0.98602115, 0.99246708]])"
      ]
     },
     "execution_count": 7,
     "metadata": {},
     "output_type": "execute_result"
    }
   ],
   "source": [
    "X"
   ]
  },
  {
   "cell_type": "code",
   "execution_count": 68,
   "id": "efd8317f",
   "metadata": {},
   "outputs": [],
   "source": [
    "X_train, X_test, y_train, y_test = train_test_split(X, y, test_size=0.3, random_state=42,shuffle=True)"
   ]
  },
  {
   "cell_type": "code",
   "execution_count": 69,
   "id": "32449587",
   "metadata": {},
   "outputs": [
    {
     "name": "stdout",
     "output_type": "stream",
     "text": [
      "KNeighborsRegressor_train R^2 score: 0.981\n",
      "KNeighborsRegressor_valid R^2 score: 0.976\n",
      "KNeighborsRegressor_train RMSE score: 0.039\n",
      "KNeighborsRegressor_valid RMSE score: 0.045\n"
     ]
    }
   ],
   "source": [
    "from sklearn.model_selection import KFold, cross_val_score\n",
    "from sklearn.metrics import mean_squared_error, r2_score\n",
    "from sklearn.neighbors import KNeighborsRegressor\n",
    "# Create the model\n",
    "model = KNeighborsRegressor(weights= 'uniform', p = 1, n_neighbors= 7, metric='euclidean')\n",
    "\n",
    "model.fit(X_train, y_train)\n",
    "\n",
    "# Predict on training and validation sets\n",
    "y_pred_train = model.predict(X_train)\n",
    "y_pred_valid = model.predict(X_test)\n",
    "\n",
    "# Calculate evaluation metrics\n",
    "mse_train = mean_squared_error(y_train, y_pred_train)\n",
    "mse_valid = mean_squared_error(y_test, y_pred_valid)\n",
    "rmse_train = np.sqrt(mse_train)\n",
    "rmse_valid = np.sqrt(mse_valid)\n",
    "r2_train = r2_score(y_train, y_pred_train)\n",
    "r2_valid = r2_score(y_test, y_pred_valid)\n",
    "\n",
    "# Print the evaluation metrics and best hyperparameters\n",
    "print(\"KNeighborsRegressor_train R^2 score: {:.3f}\".format(r2_train))\n",
    "print(\"KNeighborsRegressor_valid R^2 score: {:.3f}\".format(r2_valid))\n",
    "print(\"KNeighborsRegressor_train RMSE score: {:.3f}\".format(rmse_train))\n",
    "print(\"KNeighborsRegressor_valid RMSE score: {:.3f}\".format(rmse_valid))\n"
   ]
  },
  {
   "cell_type": "markdown",
   "id": "ca61d8ab",
   "metadata": {},
   "source": [
    "{'weights': 'uniform', 'p': 2, 'n_neighbors': 5}"
   ]
  },
  {
   "cell_type": "code",
   "execution_count": 70,
   "id": "6a856f5f",
   "metadata": {},
   "outputs": [
    {
     "data": {
      "text/plain": [
       "KNeighborsRegressor(metric='euclidean', n_neighbors=7, p=1)"
      ]
     },
     "execution_count": 70,
     "metadata": {},
     "output_type": "execute_result"
    }
   ],
   "source": [
    "model.fit(X_train, y_train)"
   ]
  },
  {
   "cell_type": "code",
   "execution_count": 11,
   "id": "12606241",
   "metadata": {
    "scrolled": true
   },
   "outputs": [
    {
     "name": "stdout",
     "output_type": "stream",
     "text": [
      "[[3719   99    0    0]\n",
      " [ 189 3276  236    0]\n",
      " [   0  392 3019  308]\n",
      " [   0    0  198 3564]]\n"
     ]
    }
   ],
   "source": [
    "from sklearn.model_selection import KFold, cross_val_predict\n",
    "from sklearn.metrics import confusion_matrix\n",
    "\n",
    "# Assuming X and y are your data and labels, and clf is your classifier object\n",
    "kf = KFold(n_splits=5)\n",
    "y_pred = cross_val_predict(model, X_test, y_test, cv=kf)\n",
    "\n",
    "# Calculate the confusion matrix\n",
    "cm = confusion_matrix(y_test, y_pred)\n",
    "\n",
    "# Print the confusion matrix\n",
    "print(cm)"
   ]
  },
  {
   "cell_type": "code",
   "execution_count": 12,
   "id": "42dfe83c",
   "metadata": {},
   "outputs": [
    {
     "data": {
      "text/plain": [
       "Text(0.5, 1.0, 'Confusion Matrix ($f_1$)')"
      ]
     },
     "execution_count": 12,
     "metadata": {},
     "output_type": "execute_result"
    },
    {
     "data": {
      "image/png": "[encoded data removed]",
      "text/plain": [
       "<Figure size 400x300 with 2 Axes>"
      ]
     },
     "metadata": {},
     "output_type": "display_data"
    }
   ],
   "source": [
    "import seaborn as sns\n",
    "from sklearn.metrics import accuracy_score, precision_score, recall_score, f1_score, roc_auc_score, confusion_matrix\n",
    "\n",
    "plt.figure(figsize=(4,3))\n",
    "\n",
    "sns.heatmap(cm, annot=True, fmt='d')\n",
    "\n",
    "# Add labels to the plot\n",
    "plt.ylabel('True Class')\n",
    "plt.xlabel('Predicted Class')\n",
    "plt.title('Confusion Matrix ($f_1$)')\n",
    "\n",
    "# plt.savefig('con_f1.jpeg',dpi=300)"
   ]
  },
  {
   "cell_type": "code",
   "execution_count": null,
   "id": "7b9f37a6",
   "metadata": {},
   "outputs": [],
   "source": []
  },
  {
   "cell_type": "code",
   "execution_count": null,
   "id": "5f29659b",
   "metadata": {},
   "outputs": [],
   "source": []
  },
  {
   "cell_type": "code",
   "execution_count": null,
   "id": "b9296db3",
   "metadata": {},
   "outputs": [],
   "source": []
  },
  {
   "cell_type": "code",
   "execution_count": null,
   "id": "6f097a6b",
   "metadata": {},
   "outputs": [],
   "source": []
  },
  {
   "cell_type": "code",
   "execution_count": 71,
   "id": "3bd0897a",
   "metadata": {},
   "outputs": [],
   "source": [
    "import pickle\n",
    "\n",
    "# Train your machine learning model and save it to a variable named 'model'\n",
    "\n",
    "# Save the model to a file named 'model.pkl'\n",
    "with open('KNN_2_1_regressor', 'wb') as file:\n",
    "    pickle.dump(model, file)"
   ]
  },
  {
   "cell_type": "code",
   "execution_count": 70,
   "id": "aa88ffdf",
   "metadata": {},
   "outputs": [],
   "source": [
    "datasize_tr = np.array([700,6500,7000,10500,14000,17500,21000,24500,28000,31500,35000])\n",
    "datasize_vl = np.array([300,1500,3000,4500,6000,7500,9000,10500,12000,13500,15000])"
   ]
  },
  {
   "cell_type": "code",
   "execution_count": null,
   "id": "6c6bda06",
   "metadata": {},
   "outputs": [],
   "source": []
  },
  {
   "cell_type": "code",
   "execution_count": null,
   "id": "31d01720",
   "metadata": {},
   "outputs": [],
   "source": []
  }
 ],
 "metadata": {
  "kernelspec": {
   "display_name": "Python 3 (ipykernel)",
   "language": "python",
   "name": "python3"
  },
  "language_info": {
   "codemirror_mode": {
    "name": "ipython",
    "version": 3
   },
   "file_extension": ".py",
   "mimetype": "text/x-python",
   "name": "python",
   "nbconvert_exporter": "python",
   "pygments_lexer": "ipython3",
   "version": "3.9.7"
  }
 },
 "nbformat": 4,
 "nbformat_minor": 5
}

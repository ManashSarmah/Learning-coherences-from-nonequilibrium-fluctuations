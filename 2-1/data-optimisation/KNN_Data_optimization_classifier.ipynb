{
 "cells": [
  {
   "cell_type": "code",
   "execution_count": 1,
   "id": "8688034d",
   "metadata": {},
   "outputs": [],
   "source": [
    "import numpy as np\n",
    "import matplotlib.pyplot as plt\n",
    "import pandas as pd"
   ]
  },
  {
   "cell_type": "code",
   "execution_count": 2,
   "id": "cad2898d",
   "metadata": {},
   "outputs": [],
   "source": [
    "df=pd.read_excel('RE_Data.xlsx')"
   ]
  },
  {
   "cell_type": "code",
   "execution_count": 3,
   "id": "411f814a",
   "metadata": {},
   "outputs": [],
   "source": [
    "df = df.drop(df.columns[df.columns.str.contains('unnamed', case=False)], axis=1)"
   ]
  },
  {
   "cell_type": "code",
   "execution_count": 60,
   "id": "5c231e4c",
   "metadata": {},
   "outputs": [],
   "source": [
    "# Shuffle the DataFrame\n",
    "df_shuff = df[0:50_000]"
   ]
  },
  {
   "cell_type": "code",
   "execution_count": 61,
   "id": "c7860840",
   "metadata": {},
   "outputs": [],
   "source": [
    "from sklearn.model_selection import train_test_split"
   ]
  },
  {
   "cell_type": "code",
   "execution_count": 62,
   "id": "57b214f4",
   "metadata": {},
   "outputs": [],
   "source": [
    "var_columns = [c for c in df_shuff if c not in ['ph','ph_labels','c4','c3']]\n",
    "\n",
    "X = df_shuff.loc[:,var_columns].values\n",
    "y = df_shuff.loc[:,'ph_labels'].values"
   ]
  },
  {
   "cell_type": "code",
   "execution_count": 63,
   "id": "efd8317f",
   "metadata": {},
   "outputs": [],
   "source": [
    "X_train, X_test, y_train, y_test = train_test_split(X, y, test_size=0.3, random_state=42,shuffle=True)"
   ]
  },
  {
   "cell_type": "code",
   "execution_count": 64,
   "id": "32449587",
   "metadata": {},
   "outputs": [
    {
     "name": "stdout",
     "output_type": "stream",
     "text": [
      "Mean accuracy_train: 0.924\n",
      "Mean accuracy_test: 0.905\n"
     ]
    }
   ],
   "source": [
    "from sklearn.model_selection import KFold, cross_val_score\n",
    "from sklearn.neighbors import KNeighborsClassifier\n",
    "# Create the model\n",
    "model = KNeighborsClassifier(weights= 'uniform', n_neighbors= 5, metric='minkowski')\n",
    "\n",
    "# Use the KFold function to split the data into 5 folds\n",
    "kf = KFold(n_splits=5)\n",
    "\n",
    "# Use the cross_val_score function to calculate the accuracy scores for each fold\n",
    "accuracies_train = cross_val_score(model, X_train, y_train, cv=kf)\n",
    "# Use the cross_val_score function to calculate the accuracy scores for each fold\n",
    "accuracies_test = cross_val_score(model, X_test, y_test, cv=kf)\n",
    "# Calculate the mean accuracy score across all the folds\n",
    "mean_accuracy_train = accuracies_train.mean()\n",
    "mean_accuracy_test = accuracies_test.mean()\n",
    "print(f\"Mean accuracy_train: {mean_accuracy_train:.3f}\")\n",
    "print(f\"Mean accuracy_test: {mean_accuracy_test:.3f}\")\n"
   ]
  },
  {
   "cell_type": "code",
   "execution_count": 9,
   "id": "d40bcc6e",
   "metadata": {},
   "outputs": [
    {
     "data": {
      "text/plain": [
       "KNeighborsClassifier()"
      ]
     },
     "execution_count": 9,
     "metadata": {},
     "output_type": "execute_result"
    }
   ],
   "source": [
    "model.fit(X_train, y_train)"
   ]
  },
  {
   "cell_type": "code",
   "execution_count": 10,
   "id": "9d45b563",
   "metadata": {
    "scrolled": true
   },
   "outputs": [
    {
     "name": "stdout",
     "output_type": "stream",
     "text": [
      "[[3719   99    0    0]\n",
      " [ 189 3276  236    0]\n",
      " [   0  392 3019  308]\n",
      " [   0    0  198 3564]]\n"
     ]
    }
   ],
   "source": [
    "from sklearn.model_selection import KFold, cross_val_predict\n",
    "from sklearn.metrics import confusion_matrix\n",
    "\n",
    "# Assuming X and y are your data and labels, and clf is your classifier object\n",
    "kf = KFold(n_splits=5)\n",
    "y_pred = cross_val_predict(model, X_test, y_test, cv=kf)\n",
    "\n",
    "# Calculate the confusion matrix\n",
    "cm = confusion_matrix(y_test, y_pred)\n",
    "\n",
    "# Print the confusion matrix\n",
    "print(cm)"
   ]
  },
  {
   "cell_type": "code",
   "execution_count": 12,
   "id": "9cb3afc0",
   "metadata": {},
   "outputs": [
    {
     "data": {
      "text/plain": [
       "Text(0.5, 1.0, 'Confusion Matrix ($f_3$)')"
      ]
     },
     "execution_count": 12,
     "metadata": {},
     "output_type": "execute_result"
    },
    {
     "data": {
      "image/png": "[encoded data removed]",
      "text/plain": [
       "<Figure size 400x300 with 2 Axes>"
      ]
     },
     "metadata": {},
     "output_type": "display_data"
    }
   ],
   "source": [
    "import seaborn as sns\n",
    "from sklearn.metrics import accuracy_score, precision_score, recall_score, f1_score, roc_auc_score, confusion_matrix\n",
    "\n",
    "plt.figure(figsize=(4,3))\n",
    "\n",
    "sns.heatmap(cm, annot=True, fmt='d')\n",
    "\n",
    "# Add labels to the plot\n",
    "plt.ylabel('True Class')\n",
    "plt.xlabel('Predicted Class')\n",
    "plt.title('Confusion Matrix ($f_3$)')\n",
    "\n",
    "# plt.savefig('con_f1.jpeg',dpi=300)"
   ]
  },
  {
   "cell_type": "code",
   "execution_count": null,
   "id": "5ade5289",
   "metadata": {},
   "outputs": [],
   "source": []
  },
  {
   "cell_type": "code",
   "execution_count": null,
   "id": "a379b4ef",
   "metadata": {},
   "outputs": [],
   "source": []
  },
  {
   "cell_type": "code",
   "execution_count": 10,
   "id": "c206e7e4",
   "metadata": {},
   "outputs": [],
   "source": [
    "import pickle\n",
    "\n",
    "# Train your machine learning model and save it to a variable named 'model'\n",
    "\n",
    "# Save the model to a file named 'model.pkl'\n",
    "with open('KNN_3_1', 'wb') as file:\n",
    "    pickle.dump(model, file)"
   ]
  },
  {
   "cell_type": "code",
   "execution_count": 9,
   "id": "aa88ffdf",
   "metadata": {},
   "outputs": [],
   "source": [
    "datasize_tr = np.array([700,6500,7000,10500,14000,17500,21000,24500,28000,31500,35000])\n",
    "datasize_vl = np.array([300,1500,3000,4500,6000,7500,9000,10500,12000,13500,15000])"
   ]
  },
  {
   "cell_type": "code",
   "execution_count": null,
   "id": "11f7c2b5",
   "metadata": {},
   "outputs": [],
   "source": []
  },
  {
   "cell_type": "markdown",
   "id": "ca61d8ab",
   "metadata": {},
   "source": [
    "{'weights': 'uniform', 'p': 2, 'n_neighbors': 5}"
   ]
  },
  {
   "cell_type": "code",
   "execution_count": 70,
   "id": "6a856f5f",
   "metadata": {},
   "outputs": [
    {
     "data": {
      "text/plain": [
       "KNeighborsRegressor(metric='euclidean', n_neighbors=7, p=1)"
      ]
     },
     "execution_count": 70,
     "metadata": {},
     "output_type": "execute_result"
    }
   ],
   "source": [
    "model.fit(X_train, y_train)"
   ]
  },
  {
   "cell_type": "code",
   "execution_count": 11,
   "id": "12606241",
   "metadata": {
    "scrolled": true
   },
   "outputs": [
    {
     "name": "stdout",
     "output_type": "stream",
     "text": [
      "[[3719   99    0    0]\n",
      " [ 189 3276  236    0]\n",
      " [   0  392 3019  308]\n",
      " [   0    0  198 3564]]\n"
     ]
    }
   ],
   "source": [
    "from sklearn.model_selection import KFold, cross_val_predict\n",
    "from sklearn.metrics import confusion_matrix\n",
    "\n",
    "# Assuming X and y are your data and labels, and clf is your classifier object\n",
    "kf = KFold(n_splits=5)\n",
    "y_pred = cross_val_predict(model, X_test, y_test, cv=kf)\n",
    "\n",
    "# Calculate the confusion matrix\n",
    "cm = confusion_matrix(y_test, y_pred)\n",
    "\n",
    "# Print the confusion matrix\n",
    "print(cm)"
   ]
  },
  {
   "cell_type": "code",
   "execution_count": 12,
   "id": "42dfe83c",
   "metadata": {},
   "outputs": [
    {
     "data": {
      "text/plain": [
       "Text(0.5, 1.0, 'Confusion Matrix ($f_1$)')"
      ]
     },
     "execution_count": 12,
     "metadata": {},
     "output_type": "execute_result"
    },
    {
     "data": {
      "image/png": "[encoded data removed]",
      "text/plain": [
       "<Figure size 400x300 with 2 Axes>"
      ]
     },
     "metadata": {},
     "output_type": "display_data"
    }
   ],
   "source": [
    "import seaborn as sns\n",
    "from sklearn.metrics import accuracy_score, precision_score, recall_score, f1_score, roc_auc_score, confusion_matrix\n",
    "\n",
    "plt.figure(figsize=(4,3))\n",
    "\n",
    "sns.heatmap(cm, annot=True, fmt='d')\n",
    "\n",
    "# Add labels to the plot\n",
    "plt.ylabel('True Class')\n",
    "plt.xlabel('Predicted Class')\n",
    "plt.title('Confusion Matrix ($f_1$)')\n",
    "\n",
    "# plt.savefig('con_f1.jpeg',dpi=300)"
   ]
  },
  {
   "cell_type": "code",
   "execution_count": null,
   "id": "7b9f37a6",
   "metadata": {},
   "outputs": [],
   "source": []
  },
  {
   "cell_type": "code",
   "execution_count": null,
   "id": "5f29659b",
   "metadata": {},
   "outputs": [],
   "source": []
  },
  {
   "cell_type": "code",
   "execution_count": null,
   "id": "b9296db3",
   "metadata": {},
   "outputs": [],
   "source": []
  },
  {
   "cell_type": "code",
   "execution_count": null,
   "id": "6f097a6b",
   "metadata": {},
   "outputs": [],
   "source": []
  },
  {
   "cell_type": "code",
   "execution_count": 71,
   "id": "3bd0897a",
   "metadata": {},
   "outputs": [],
   "source": [
    "import pickle\n",
    "\n",
    "# Train your machine learning model and save it to a variable named 'model'\n",
    "\n",
    "# Save the model to a file named 'model.pkl'\n",
    "with open('KNN_2_1_regressor', 'wb') as file:\n",
    "    pickle.dump(model, file)"
   ]
  },
  {
   "cell_type": "code",
   "execution_count": 70,
   "id": "697cd2b6",
   "metadata": {},
   "outputs": [],
   "source": [
    "datasize_tr = np.array([700,6500,7000,10500,14000,17500,21000,24500,28000,31500,35000])\n",
    "datasize_vl = np.array([300,1500,3000,4500,6000,7500,9000,10500,12000,13500,15000])"
   ]
  },
  {
   "cell_type": "code",
   "execution_count": null,
   "id": "6c6bda06",
   "metadata": {},
   "outputs": [],
   "source": []
  },
  {
   "cell_type": "code",
   "execution_count": null,
   "id": "31d01720",
   "metadata": {},
   "outputs": [],
   "source": []
  }
 ],
 "metadata": {
  "kernelspec": {
   "display_name": "Python 3 (ipykernel)",
   "language": "python",
   "name": "python3"
  },
  "language_info": {
   "codemirror_mode": {
    "name": "ipython",
    "version": 3
   },
   "file_extension": ".py",
   "mimetype": "text/x-python",
   "name": "python",
   "nbconvert_exporter": "python",
   "pygments_lexer": "ipython3",
   "version": "3.9.7"
  }
 },
 "nbformat": 4,
 "nbformat_minor": 5
}
